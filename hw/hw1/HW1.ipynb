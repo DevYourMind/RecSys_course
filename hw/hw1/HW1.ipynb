{
 "cells": [
  {
   "cell_type": "markdown",
   "id": "63151877",
   "metadata": {},
   "source": [
    "## <center> RecSys. Home Assignment 1</center>"
   ]
  },
  {
   "cell_type": "markdown",
   "id": "9c581a7d",
   "metadata": {},
   "source": [
    "Один из важных навыков для построения рекомендательных систем - это умение корректно считать метрики качества ранжирования.\n",
    "\n",
    "В этой домашке мы предлагаем вам потренироваться в этом, и имплементировать метрики Precision@k, Recall@k, MNAP@k и NDCG@k по формулам, чтобы дальше переиспользовать при построении рекомендательных моделей. \n",
    "\n",
    "Критерии оценивания:\n",
    "* Что-то пытался сделать, дописал свой код, но ничего не получилось - 1 балл. \n",
    "* Не совсем корректная имплементация одной из 4 метрик, прохождение части тестов - 1 балл. \n",
    "* Корректная имплементация одной из 4 метрик, прохождение всех тестов - 2 балла. \n",
    "* +1 балл, если получится написать Precision@k, Recall@k без циклов.\n",
    "* +1 балл, если получится написать NDCG@k, MNAP@k без циклов.\n",
    "\n",
    "Дедлайн сдачи - **10 октября 23:59**. \n",
    "\n",
    "Формат сдачи - отправить Jupyter notebook на почту ananyeva.me@gmail.com с темой письма \"[RecSys HW1]\" и названием файла Name_Surname_HW1.ipynb.  \n",
    "\n",
    "Удачи!"
   ]
  },
  {
   "cell_type": "code",
   "execution_count": 1,
   "id": "6c928452-693b-4a9d-bc66-284765b6ec50",
   "metadata": {},
   "outputs": [
    {
     "name": "stderr",
     "output_type": "stream",
     "text": [
      "C:\\Users\\dimaz\\AppData\\Local\\Packages\\PythonSoftwareFoundation.Python.3.10_qbz5n2kfra8p0\\LocalCache\\local-packages\\Python310\\site-packages\\tqdm\\auto.py:22: TqdmWarning: IProgress not found. Please update jupyter and ipywidgets. See https://ipywidgets.readthedocs.io/en/stable/user_install.html\n",
      "  from .autonotebook import tqdm as notebook_tqdm\n"
     ]
    }
   ],
   "source": [
    "from typing import NamedTuple, Union\n",
    "import tests\n",
    "import torch\n",
    "from decimal import Decimal\n",
    "import numpy as np"
   ]
  },
  {
   "cell_type": "code",
   "execution_count": 2,
   "id": "93c1466c-0e00-42ee-9e6d-f822da820a91",
   "metadata": {},
   "outputs": [],
   "source": [
    "class PrepareTargetResult(NamedTuple):\n",
    "    values: torch.Tensor\n",
    "    indices: torch.Tensor\n",
    "\n",
    "\n",
    "def validate_metric_inputs(output: torch.Tensor, target: torch.Tensor) -> None:\n",
    "    if output.size() != target.size():\n",
    "        raise IndexError(\n",
    "            \"Unequal sizes for output and target: \"\n",
    "            f\"output - {output.size()}, target - {target.size()}.\"\n",
    "        )\n",
    "    if not (target.eq(0) | target.eq(1)).all():\n",
    "        raise ValueError(\n",
    "            \"Target contains values outside of 0 and 1.\" f\"\\nTarget:\\n{target}\"\n",
    "        )\n",
    "\n",
    "\n",
    "def prepare_target(\n",
    "    output: torch.Tensor, target: torch.Tensor, return_indices: bool = False\n",
    ") -> Union[torch.Tensor, PrepareTargetResult]:\n",
    "    validate_metric_inputs(output, target)\n",
    "    # Define order by sorted output scores.\n",
    "    indices = output.argsort(dim=-1, descending=True)\n",
    "    sorted_target = torch.gather(target, index=indices, dim=-1)\n",
    "    return (\n",
    "        PrepareTargetResult(sorted_target, indices) if return_indices else sorted_target\n",
    "    )\n",
    "\n",
    "\n",
    "def nan_to_num(tensor: torch.Tensor, nan: float = 0.0) -> torch.Tensor:\n",
    "    return torch.where(\n",
    "        torch.isnan(tensor) | torch.isinf(tensor),\n",
    "        torch.full_like(tensor, fill_value=nan),\n",
    "        tensor,\n",
    "    )\n",
    "\n",
    "\n",
    "def my_tests(cases, metric):\n",
    "    flg = False\n",
    "    for index, case in enumerate(cases):\n",
    "        print(f\"\\ncase: {index}\\n\")\n",
    "        for k in case['topk']:\n",
    "            result  = metric(case[\"output\"], case[\"target\"], k)\n",
    "            if result == case[\"expected\"][k]:\n",
    "                print(k, 'good')\n",
    "            else:\n",
    "                print(k, 'ALERT!')\n",
    "                print(result)\n",
    "                flg = True\n",
    "                break\n",
    "        if flg:\n",
    "            break"
   ]
  },
  {
   "cell_type": "markdown",
   "id": "94b41fe1-8811-477d-8908-f1ab0d9547b6",
   "metadata": {},
   "source": [
    "# Precision\n",
    "\n",
    "$$P@k = \\frac{\\sum_{i=1}^k [rel_{i}]}{k}$$"
   ]
  },
  {
   "cell_type": "code",
   "execution_count": 60,
   "id": "679e4cb5-0fde-43e6-92ff-de003a18057a",
   "metadata": {},
   "outputs": [],
   "source": [
    "def precision(output: torch.Tensor, target: torch.Tensor, topk: int) -> torch.Tensor:\n",
    "    # output, target ~ (users, items)\n",
    "    # target_sorted_by_output ~ (users, items)\n",
    "    target_sorted_by_output = prepare_target(output, target)\n",
    "    # YOUR CODE HERE\n",
    "    topk = min(target.shape[1], topk)\n",
    "    result = torch.div(torch.sum(target_sorted_by_output[:, :topk], 1), topk).mean().item()\n",
    "    return result"
   ]
  },
  {
   "cell_type": "code",
   "execution_count": 61,
   "id": "a600b149-385b-40ad-b97d-b016426a4e17",
   "metadata": {},
   "outputs": [],
   "source": [
    "tests.run_precision(precision)"
   ]
  },
  {
   "cell_type": "markdown",
   "id": "0a057208-db6d-48cf-b5e1-7203efe94e1c",
   "metadata": {},
   "source": [
    "# Recall\n",
    "\n",
    "$$P@k = \\frac{\\sum_{i=1}^k [rel_{i}]}{|rel_k|}$$"
   ]
  },
  {
   "cell_type": "code",
   "execution_count": null,
   "id": "d67da32b-2e3a-4e1d-a3df-1f32d117b95b",
   "metadata": {},
   "outputs": [],
   "source": [
    "def recall(output: torch.Tensor, target: torch.Tensor, topk: int) -> torch.Tensor:\n",
    "    # output, target ~ (users, items)\n",
    "    # target_sorted_by_output ~ (users, items)\n",
    "    target_sorted_by_output = prepare_target(output, target)\n",
    "    # YOUR CODE HERE\n",
    "    result = torch.div(torch.sum(target_sorted_by_output[:, :topk], dim=1), torch.sum(target_sorted_by_output, dim=1)).mean()\n",
    "    if torch.isnan(result):\n",
    "        result = 0.0\n",
    "    return result"
   ]
  },
  {
   "cell_type": "code",
   "execution_count": null,
   "id": "e77cb6cc-2ca7-483a-abe9-75cbaf92539c",
   "metadata": {},
   "outputs": [],
   "source": [
    "tests.run_recall(recall)"
   ]
  },
  {
   "cell_type": "markdown",
   "id": "e6362e92-6ad3-441e-ab38-bd931348e920",
   "metadata": {},
   "source": [
    "# Mean (Normalized) Average Precision\n",
    "\n",
    "\n",
    "$$AP@k = \\frac{\\sum_{i=1}^{k} P@i \\cdot [rel@ i]} {\\sum_{i=1}^{k}[rel@i]}$$\n",
    "$$MNAP@k = \\frac{1}{N} \\sum_{k=1}^{N} \\frac{1}{min(k, m_u)} AP@k,$$\n",
    "\n",
    "где $m_u$ - количество items с интеракциями у пользователя $u$ в тестовый период, <br>\n",
    "$N$ - количество пользователей. "
   ]
  },
  {
   "cell_type": "code",
   "execution_count": 271,
   "id": "1daf876a-4b0b-48af-a38d-57423e5ff46d",
   "metadata": {},
   "outputs": [],
   "source": [
    "def mnap(output: torch.Tensor, target: torch.Tensor, topk: int, normalized: bool = True) -> torch.Tensor:\n",
    "    # output, target ~ (users, items)\n",
    "    # target_sorted_by_output ~ (users, items)\n",
    "    target_sorted_by_output = prepare_target(output, target)\n",
    "    # YOUR CODE HERE\n",
    "    tens_to_calc = target_sorted_by_output[:, :topk]\n",
    "    numerator = tens_to_calc.where((tens_to_calc == 0 ), tens_to_calc.cumsum(dim=1))\n",
    "    denominator = torch.ones(tens_to_calc.shape).cumsum(dim=1)\n",
    "    result = torch.div(numerator, denominator).mean(dim=1).mean().item()\n",
    "    # result = np.mean(list(map(lambda x, y: float(x) / float(y), numerator, denominator)))\n",
    "    return result"
   ]
  },
  {
   "cell_type": "code",
   "execution_count": 254,
   "id": "104ec0a1",
   "metadata": {},
   "outputs": [],
   "source": [
    "cases = [\n",
    "    {\n",
    "        \"output\": torch.Tensor([[0, 0, 0, 0]]),\n",
    "        \"target\": torch.Tensor([[0, 0, 0, 0]]),\n",
    "        \"topk\": [1, 3, 10, 100],\n",
    "        \"expected\": {\n",
    "            1: 0.0,\n",
    "            3: 0.0,\n",
    "            10: 0.0,\n",
    "            100: 0.0,\n",
    "        },\n",
    "    },\n",
    "    {\n",
    "        \"output\": torch.Tensor([[1, 1, 1, 1]]),\n",
    "        \"target\": torch.Tensor([[1, 1, 1, 1]]),\n",
    "        \"topk\": [1, 3, 10, 100],\n",
    "        \"expected\": {\n",
    "            1: 1.0,\n",
    "            3: 1.0,\n",
    "            10: 1.0,\n",
    "            100: 1.0,\n",
    "        },\n",
    "    },\n",
    "    {\n",
    "        \"output\": torch.Tensor([[0, 0, 0, 0]]),\n",
    "        \"target\": torch.Tensor([[1, 1, 1, 1]]),\n",
    "        \"topk\": [1, 3, 10, 100],\n",
    "        \"expected\": {\n",
    "            1: 1.0,\n",
    "            3: 1.0,\n",
    "            10: 1.0,\n",
    "            100: 1.0,\n",
    "        },\n",
    "    },\n",
    "    {\n",
    "        \"output\": torch.Tensor([[1, 1, 1, 1]]),\n",
    "        \"target\": torch.Tensor([[0, 0, 0, 0]]),\n",
    "        \"topk\": [1, 3, 10, 100],\n",
    "        \"expected\": {\n",
    "            1: 0.0,\n",
    "            3: 0.0,\n",
    "            10: 0.0,\n",
    "            100: 0.0,\n",
    "        },\n",
    "    },\n",
    "    {\n",
    "        \"output\": torch.Tensor([[0.5, 0.4, 0.3, 0.2]]),\n",
    "        \"target\": torch.Tensor([[1, 0, 1, 0]]),\n",
    "        \"topk\": [1, 3, 10, 100],\n",
    "        \"expected\": {\n",
    "            1: 1.0,\n",
    "            3: (1 + 2 / 3) / 3,\n",
    "            10: (1 + 2 / 3) / 4,\n",
    "            100: (1 + 2 / 3) / 4,\n",
    "        },\n",
    "    },\n",
    "    {\n",
    "        \"output\": torch.Tensor(\n",
    "            [\n",
    "                [9, 5, 3, 0, 7, 4, 0, 0, 6, 0, 0, 0, 0, 0, 0, 1, 8, 2, 0, 10],\n",
    "                [0, 0, 1, 5, 9, 3, 0, 0, 0, 0, 0, 4, 0, 0, 10, 7, 0, 2, 8, 6],\n",
    "                [0, 1, 4, 8, 6, 5, 3, 7, 10, 0, 9, 0, 0, 2, 0, 0, 0, 0, 0, 0],\n",
    "                [7, 8, 0, 0, 1, 0, 4, 0, 10, 0, 0, 6, 0, 0, 0, 9, 2, 3, 5, 0],\n",
    "            ]\n",
    "        ),\n",
    "        \"target\": torch.Tensor(\n",
    "            [\n",
    "                [1, 1, 1, 0, 0, 1, 0, 1, 0, 0, 1, 0, 0, 0, 0, 0, 1, 0, 1, 0],\n",
    "                [1, 0, 1, 0, 0, 0, 0, 0, 1, 1, 0, 0, 1, 0, 1, 0, 1, 1, 0, 0],\n",
    "                [0, 0, 0, 0, 0, 1, 1, 1, 0, 1, 1, 0, 1, 1, 0, 1, 0, 1, 1, 0],\n",
    "                [0, 1, 1, 1, 0, 1, 0, 1, 0, 1, 0, 1, 0, 0, 1, 0, 0, 1, 0, 0],\n",
    "            ]\n",
    "        ),\n",
    "        \"topk\": [1, 3, 10, 100],\n",
    "        \"expected\": {\n",
    "            1: (0.0 + 1.0 + 0.0 + 0.0) / 4,\n",
    "            3: (\n",
    "                (1 / 2 + 2 / 3) / 3\n",
    "                + 1 / 3\n",
    "                + (1 / 2) / 3\n",
    "                + (1 / 3) / 3\n",
    "            ) / 4,\n",
    "            10: (\n",
    "                (1 / 2 + 2 / 3 + 3 / 6 + 4 / 7 + 5 / 8) / 10\n",
    "                + (1 + 2 / 9 + 3 / 10) / 10\n",
    "                + (1 / 2 + 2 / 4 + 3 / 6 + 4 / 8 + 5 / 9) / 10\n",
    "                + (1 / 3 + 2 / 5 + 3 / 8) / 10 \n",
    "            ) / 4,\n",
    "            100: (\n",
    "                (1 / 2 + 2 / 3 + 3 / 6 + 4 / 7 + 5 / 8 + 6 / 12 + 7 / 14 + 8 / 20) / 20\n",
    "                + (1 + 2 / 9 + 3 / 10 + 4 / 12 + 5 / 14 + 6 / 15 + 7 / 16 + 8 / 17) / 20\n",
    "                + (1 / 2 + 2 / 4 + 3 / 6 + 4 / 8 + 5 / 9 + 6 / 11 + 7 / 13 + 8 / 16 + 9 / 18 + 10 / 19) / 20\n",
    "                + (1 / 3 + 2 / 5 + 3 / 8 + 4 / 12 + 5 / 16 + 6 / 17 + 7 / 18 + 8 / 19 + 9 / 20) / 20\n",
    "            ) / 4\n",
    "        },\n",
    "    },\n",
    "]"
   ]
  },
  {
   "cell_type": "code",
   "execution_count": 273,
   "id": "9a1a22e6",
   "metadata": {},
   "outputs": [
    {
     "name": "stdout",
     "output_type": "stream",
     "text": [
      "\n",
      "case: 0\n",
      "\n"
     ]
    },
    {
     "ename": "IndexError",
     "evalue": "Dimension out of range (expected to be in range of [-1, 0], but got 1)",
     "output_type": "error",
     "traceback": [
      "\u001b[1;31m---------------------------------------------------------------------------\u001b[0m",
      "\u001b[1;31mIndexError\u001b[0m                                Traceback (most recent call last)",
      "\u001b[1;32md:\\ФТиАД\\RecSys\\RecSys_course\\hw\\hw1\\HW1.ipynb Ячейка 14\u001b[0m in \u001b[0;36m<cell line: 1>\u001b[1;34m()\u001b[0m\n\u001b[1;32m----> <a href='vscode-notebook-cell:/d%3A/%D0%A4%D0%A2%D0%B8%D0%90%D0%94/RecSys/RecSys_course/hw/hw1/HW1.ipynb#Y135sZmlsZQ%3D%3D?line=0'>1</a>\u001b[0m my_tests(cases, mnap)\n",
      "\u001b[1;32md:\\ФТиАД\\RecSys\\RecSys_course\\hw\\hw1\\HW1.ipynb Ячейка 14\u001b[0m in \u001b[0;36mmy_tests\u001b[1;34m(cases, metric)\u001b[0m\n\u001b[0;32m     <a href='vscode-notebook-cell:/d%3A/%D0%A4%D0%A2%D0%B8%D0%90%D0%94/RecSys/RecSys_course/hw/hw1/HW1.ipynb#Y135sZmlsZQ%3D%3D?line=40'>41</a>\u001b[0m \u001b[39mprint\u001b[39m(\u001b[39mf\u001b[39m\u001b[39m\"\u001b[39m\u001b[39m\\n\u001b[39;00m\u001b[39mcase: \u001b[39m\u001b[39m{\u001b[39;00mindex\u001b[39m}\u001b[39;00m\u001b[39m\\n\u001b[39;00m\u001b[39m\"\u001b[39m)\n\u001b[0;32m     <a href='vscode-notebook-cell:/d%3A/%D0%A4%D0%A2%D0%B8%D0%90%D0%94/RecSys/RecSys_course/hw/hw1/HW1.ipynb#Y135sZmlsZQ%3D%3D?line=41'>42</a>\u001b[0m \u001b[39mfor\u001b[39;00m k \u001b[39min\u001b[39;00m case[\u001b[39m'\u001b[39m\u001b[39mtopk\u001b[39m\u001b[39m'\u001b[39m]:\n\u001b[1;32m---> <a href='vscode-notebook-cell:/d%3A/%D0%A4%D0%A2%D0%B8%D0%90%D0%94/RecSys/RecSys_course/hw/hw1/HW1.ipynb#Y135sZmlsZQ%3D%3D?line=42'>43</a>\u001b[0m     result  \u001b[39m=\u001b[39m metric(case[\u001b[39m\"\u001b[39;49m\u001b[39moutput\u001b[39;49m\u001b[39m\"\u001b[39;49m], case[\u001b[39m\"\u001b[39;49m\u001b[39mtarget\u001b[39;49m\u001b[39m\"\u001b[39;49m], k)\n\u001b[0;32m     <a href='vscode-notebook-cell:/d%3A/%D0%A4%D0%A2%D0%B8%D0%90%D0%94/RecSys/RecSys_course/hw/hw1/HW1.ipynb#Y135sZmlsZQ%3D%3D?line=43'>44</a>\u001b[0m     \u001b[39mif\u001b[39;00m result \u001b[39m==\u001b[39m case[\u001b[39m\"\u001b[39m\u001b[39mexpected\u001b[39m\u001b[39m\"\u001b[39m][k]:\n\u001b[0;32m     <a href='vscode-notebook-cell:/d%3A/%D0%A4%D0%A2%D0%B8%D0%90%D0%94/RecSys/RecSys_course/hw/hw1/HW1.ipynb#Y135sZmlsZQ%3D%3D?line=44'>45</a>\u001b[0m         \u001b[39mprint\u001b[39m(k, \u001b[39m'\u001b[39m\u001b[39mgood\u001b[39m\u001b[39m'\u001b[39m)\n",
      "\u001b[1;32md:\\ФТиАД\\RecSys\\RecSys_course\\hw\\hw1\\HW1.ipynb Ячейка 14\u001b[0m in \u001b[0;36mmnap\u001b[1;34m(output, target, topk, normalized)\u001b[0m\n\u001b[0;32m      <a href='vscode-notebook-cell:/d%3A/%D0%A4%D0%A2%D0%B8%D0%90%D0%94/RecSys/RecSys_course/hw/hw1/HW1.ipynb#Y135sZmlsZQ%3D%3D?line=6'>7</a>\u001b[0m numerator \u001b[39m=\u001b[39m tens_to_calc\u001b[39m.\u001b[39mwhere((tens_to_calc \u001b[39m==\u001b[39m \u001b[39m0\u001b[39m ), tens_to_calc\u001b[39m.\u001b[39mcumsum(dim\u001b[39m=\u001b[39m\u001b[39m1\u001b[39m))\u001b[39m.\u001b[39mravel()\n\u001b[0;32m      <a href='vscode-notebook-cell:/d%3A/%D0%A4%D0%A2%D0%B8%D0%90%D0%94/RecSys/RecSys_course/hw/hw1/HW1.ipynb#Y135sZmlsZQ%3D%3D?line=7'>8</a>\u001b[0m denominator \u001b[39m=\u001b[39m torch\u001b[39m.\u001b[39mones(tens_to_calc\u001b[39m.\u001b[39mshape)\u001b[39m.\u001b[39mcumsum(dim\u001b[39m=\u001b[39m\u001b[39m1\u001b[39m)\u001b[39m.\u001b[39mravel()\n\u001b[1;32m----> <a href='vscode-notebook-cell:/d%3A/%D0%A4%D0%A2%D0%B8%D0%90%D0%94/RecSys/RecSys_course/hw/hw1/HW1.ipynb#Y135sZmlsZQ%3D%3D?line=8'>9</a>\u001b[0m result \u001b[39m=\u001b[39m torch\u001b[39m.\u001b[39;49mdiv(numerator, denominator)\u001b[39m.\u001b[39;49mmean(dim\u001b[39m=\u001b[39;49m\u001b[39m1\u001b[39;49m)\u001b[39m.\u001b[39mmean()\u001b[39m.\u001b[39mitem()\n\u001b[0;32m     <a href='vscode-notebook-cell:/d%3A/%D0%A4%D0%A2%D0%B8%D0%90%D0%94/RecSys/RecSys_course/hw/hw1/HW1.ipynb#Y135sZmlsZQ%3D%3D?line=9'>10</a>\u001b[0m \u001b[39m# result = np.mean(list(map(lambda x, y: float(x) / float(y), numerator, denominator)))\u001b[39;00m\n\u001b[0;32m     <a href='vscode-notebook-cell:/d%3A/%D0%A4%D0%A2%D0%B8%D0%90%D0%94/RecSys/RecSys_course/hw/hw1/HW1.ipynb#Y135sZmlsZQ%3D%3D?line=10'>11</a>\u001b[0m \u001b[39mreturn\u001b[39;00m result\n",
      "\u001b[1;31mIndexError\u001b[0m: Dimension out of range (expected to be in range of [-1, 0], but got 1)"
     ]
    }
   ],
   "source": [
    "my_tests(cases, mnap)"
   ]
  },
  {
   "cell_type": "code",
   "execution_count": 239,
   "id": "82dd81b6",
   "metadata": {},
   "outputs": [
    {
     "data": {
      "text/plain": [
       "tensor([0.5000, 0.4000, 0.3000, 0.2000])"
      ]
     },
     "execution_count": 239,
     "metadata": {},
     "output_type": "execute_result"
    }
   ],
   "source": [
    "output.ravel()"
   ]
  },
  {
   "cell_type": "code",
   "execution_count": 276,
   "id": "08c1163d",
   "metadata": {},
   "outputs": [
    {
     "data": {
      "text/plain": [
       "0.0"
      ]
     },
     "execution_count": 276,
     "metadata": {},
     "output_type": "execute_result"
    }
   ],
   "source": [
    "topk = 3\n",
    "case = cases[0]\n",
    "output = case['output']\n",
    "target = case['target']\n",
    "target_sorted_by_output = prepare_target(output, target)\n",
    "tens_to_calc = target_sorted_by_output[:, :topk]\n",
    "numerator = tens_to_calc.where((tens_to_calc == 0), tens_to_calc.cumsum(dim=1))\n",
    "denominator = torch.ones(tens_to_calc.shape).cumsum(dim=1)\n",
    "torch.div(numerator, denominator).mean(dim=1).mean().item()"
   ]
  },
  {
   "cell_type": "code",
   "execution_count": 267,
   "id": "dbb0e824",
   "metadata": {},
   "outputs": [
    {
     "data": {
      "text/plain": [
       "0.2064180611055611"
      ]
     },
     "execution_count": 267,
     "metadata": {},
     "output_type": "execute_result"
    }
   ],
   "source": [
    "mnap(output, target, topk)"
   ]
  },
  {
   "cell_type": "code",
   "execution_count": 270,
   "id": "7802a75f",
   "metadata": {},
   "outputs": [
    {
     "data": {
      "text/plain": [
       "0.002459077622583794"
      ]
     },
     "execution_count": 270,
     "metadata": {},
     "output_type": "execute_result"
    }
   ],
   "source": [
    "mnap(output, target, topk) - (\n",
    "                    (1 / 2 + 2 / 3 + 3 / 6 + 4 / 7 + 5 / 8 + 6 / 12 + 7 / 14 + 8 / 20) / 20\n",
    "                    + (1 + 2 / 9 + 3 / 10 + 4 / 12 + 5 / 14 + 6 / 15 + 7 / 16 + 8 / 17) / 20\n",
    "                    + (1 / 2 + 2 / 4 + 3 / 6 + 4 / 8 + 5 / 9 + 6 / 11 + 7 / 13 + 8 / 16 + 9 / 18 + 10 / 19) / 20\n",
    "                    + (1 / 3 + 2 / 5 + 3 / 8 + 4 / 12 + 5 / 16 + 6 / 17 + 7 / 18 + 8 / 19 + 9 / 20) / 20\n",
    "                ) / 4"
   ]
  },
  {
   "cell_type": "code",
   "execution_count": 251,
   "id": "117ae5c5",
   "metadata": {},
   "outputs": [
    {
     "data": {
      "text/plain": [
       "5.551115123125783e-17"
      ]
     },
     "execution_count": 251,
     "metadata": {},
     "output_type": "execute_result"
    }
   ],
   "source": [
    "0.25 - 0.24999999999999994"
   ]
  },
  {
   "cell_type": "code",
   "execution_count": 234,
   "id": "ef17b7e9",
   "metadata": {},
   "outputs": [
    {
     "data": {
      "text/plain": [
       "tensor([1., 1., 1., 1.])"
      ]
     },
     "execution_count": 234,
     "metadata": {},
     "output_type": "execute_result"
    }
   ],
   "source": [
    "denominator.ravel()"
   ]
  },
  {
   "cell_type": "code",
   "execution_count": 236,
   "id": "e342ca60",
   "metadata": {},
   "outputs": [
    {
     "data": {
      "text/plain": [
       "0.25"
      ]
     },
     "execution_count": 236,
     "metadata": {},
     "output_type": "execute_result"
    }
   ],
   "source": [
    "np.mean(list(map(lambda x, y: float(x) / float(y), numerator.ravel(), denominator.ravel())))"
   ]
  },
  {
   "cell_type": "code",
   "execution_count": 232,
   "id": "b390c843",
   "metadata": {},
   "outputs": [
    {
     "data": {
      "text/plain": [
       "tensor([0.])"
      ]
     },
     "execution_count": 232,
     "metadata": {},
     "output_type": "execute_result"
    }
   ],
   "source": [
    "numerator[0]"
   ]
  },
  {
   "cell_type": "code",
   "execution_count": 229,
   "id": "7277b1c2",
   "metadata": {},
   "outputs": [
    {
     "data": {
      "text/plain": [
       "0.0"
      ]
     },
     "execution_count": 229,
     "metadata": {},
     "output_type": "execute_result"
    }
   ],
   "source": [
    "np.mean(list(map(lambda x, y: float(x) / float(y), numerator[0], denominator[0])))"
   ]
  },
  {
   "cell_type": "code",
   "execution_count": 137,
   "id": "3627c270",
   "metadata": {},
   "outputs": [
    {
     "data": {
      "text/plain": [
       "{'output': tensor([[0.5000, 0.4000, 0.3000, 0.2000]]),\n",
       " 'target': tensor([[1., 0., 1., 0.]]),\n",
       " 'topk': [1, 3, 10, 100],\n",
       " 'expected': {1: 1.0,\n",
       "  3: 0.5555555555555555,\n",
       "  10: 0.41666666666666663,\n",
       "  100: 0.41666666666666663}}"
      ]
     },
     "execution_count": 137,
     "metadata": {},
     "output_type": "execute_result"
    }
   ],
   "source": [
    "case"
   ]
  },
  {
   "cell_type": "code",
   "execution_count": 136,
   "id": "2dc3d1ab",
   "metadata": {},
   "outputs": [
    {
     "data": {
      "text/plain": [
       "tensor([[1., 0., 1., 0.]])"
      ]
     },
     "execution_count": 136,
     "metadata": {},
     "output_type": "execute_result"
    }
   ],
   "source": [
    "target_sorted_by_output"
   ]
  },
  {
   "cell_type": "code",
   "execution_count": 134,
   "id": "a505187b",
   "metadata": {},
   "outputs": [
    {
     "data": {
      "text/plain": [
       "0.24999999999999994"
      ]
     },
     "execution_count": 134,
     "metadata": {},
     "output_type": "execute_result"
    }
   ],
   "source": [
    "(\n",
    "                    (1 / 2 + 2 / 3) / 3\n",
    "                    + 1 / 3\n",
    "                    + (1 / 2) / 3\n",
    "                    + (1 / 3) / 3\n",
    "                ) / 4"
   ]
  },
  {
   "cell_type": "code",
   "execution_count": 43,
   "id": "18182dbb",
   "metadata": {},
   "outputs": [
    {
     "data": {
      "text/plain": [
       "4"
      ]
     },
     "execution_count": 43,
     "metadata": {},
     "output_type": "execute_result"
    }
   ],
   "source": [
    "target.shape[1]"
   ]
  },
  {
   "cell_type": "code",
   "execution_count": 46,
   "id": "8d6e4a3a",
   "metadata": {},
   "outputs": [
    {
     "data": {
      "text/plain": [
       "0.5555555555555555"
      ]
     },
     "execution_count": 46,
     "metadata": {},
     "output_type": "execute_result"
    }
   ],
   "source": [
    "(1 + 2 / 3) / 3"
   ]
  },
  {
   "cell_type": "code",
   "execution_count": 37,
   "id": "7c9a9cce",
   "metadata": {},
   "outputs": [
    {
     "data": {
      "text/plain": [
       "tensor([[1., 0., 1., 0.]])"
      ]
     },
     "execution_count": 37,
     "metadata": {},
     "output_type": "execute_result"
    }
   ],
   "source": [
    "target_sorted_by_output"
   ]
  },
  {
   "cell_type": "code",
   "execution_count": 272,
   "id": "39353a96-0ce9-493d-a56c-29c85759bf7b",
   "metadata": {},
   "outputs": [
    {
     "ename": "IndexError",
     "evalue": "Dimension out of range (expected to be in range of [-1, 0], but got 1)",
     "output_type": "error",
     "traceback": [
      "\u001b[1;31m---------------------------------------------------------------------------\u001b[0m",
      "\u001b[1;31mIndexError\u001b[0m                                Traceback (most recent call last)",
      "\u001b[1;32md:\\ФТиАД\\RecSys\\RecSys_course\\hw\\hw1\\HW1.ipynb Ячейка 31\u001b[0m in \u001b[0;36m<cell line: 1>\u001b[1;34m()\u001b[0m\n\u001b[1;32m----> <a href='vscode-notebook-cell:/d%3A/%D0%A4%D0%A2%D0%B8%D0%90%D0%94/RecSys/RecSys_course/hw/hw1/HW1.ipynb#X15sZmlsZQ%3D%3D?line=0'>1</a>\u001b[0m tests\u001b[39m.\u001b[39;49mrun_map(mnap)\n",
      "File \u001b[1;32md:\\ФТиАД\\RecSys\\RecSys_course\\hw\\hw1\\tests.py:278\u001b[0m, in \u001b[0;36mrun_map\u001b[1;34m(func)\u001b[0m\n\u001b[0;32m    180\u001b[0m \u001b[39mdef\u001b[39;00m \u001b[39mrun_map\u001b[39m(func: Callable) \u001b[39m-\u001b[39m\u001b[39m>\u001b[39m \u001b[39mNone\u001b[39;00m:\n\u001b[0;32m    181\u001b[0m     cases \u001b[39m=\u001b[39m [\n\u001b[0;32m    182\u001b[0m         {\n\u001b[0;32m    183\u001b[0m             \u001b[39m\"\u001b[39m\u001b[39moutput\u001b[39m\u001b[39m\"\u001b[39m: torch\u001b[39m.\u001b[39mTensor([[\u001b[39m0\u001b[39m, \u001b[39m0\u001b[39m, \u001b[39m0\u001b[39m, \u001b[39m0\u001b[39m]]),\n\u001b[1;32m   (...)\u001b[0m\n\u001b[0;32m    276\u001b[0m         },\n\u001b[0;32m    277\u001b[0m     ]\n\u001b[1;32m--> 278\u001b[0m     \u001b[39mreturn\u001b[39;00m _run_tests(partial(func, normalized\u001b[39m=\u001b[39;49m\u001b[39mFalse\u001b[39;49;00m), cases)\n",
      "File \u001b[1;32md:\\ФТиАД\\RecSys\\RecSys_course\\hw\\hw1\\tests.py:487\u001b[0m, in \u001b[0;36m_run_tests\u001b[1;34m(func, cases)\u001b[0m\n\u001b[0;32m    485\u001b[0m expected \u001b[39m=\u001b[39m case\u001b[39m.\u001b[39mpop(\u001b[39m\"\u001b[39m\u001b[39mexpected\u001b[39m\u001b[39m\"\u001b[39m)\n\u001b[0;32m    486\u001b[0m \u001b[39mfor\u001b[39;00m k \u001b[39min\u001b[39;00m case\u001b[39m.\u001b[39mpop(\u001b[39m\"\u001b[39m\u001b[39mtopk\u001b[39m\u001b[39m\"\u001b[39m):\n\u001b[1;32m--> 487\u001b[0m     actual \u001b[39m=\u001b[39m func(\u001b[39m*\u001b[39m\u001b[39m*\u001b[39mcase, topk\u001b[39m=\u001b[39mk)\n\u001b[0;32m    488\u001b[0m     torch\u001b[39m.\u001b[39mtesting\u001b[39m.\u001b[39massert_close(\n\u001b[0;32m    489\u001b[0m         actual,\n\u001b[0;32m    490\u001b[0m         torch\u001b[39m.\u001b[39mtensor(expected[k]) \u001b[39mif\u001b[39;00m \u001b[39misinstance\u001b[39m(actual, torch\u001b[39m.\u001b[39mTensor) \u001b[39melse\u001b[39;00m expected[k],\n\u001b[0;32m    491\u001b[0m         msg\u001b[39m=\u001b[39m\u001b[39mlambda\u001b[39;00m msg: \u001b[39mf\u001b[39m\u001b[39m\"\u001b[39m\u001b[39mInputs:\u001b[39m\u001b[39m{\u001b[39;00mjson\u001b[39m.\u001b[39mdumps({key: (v\u001b[39m.\u001b[39mtolist() \u001b[39mif\u001b[39;00m \u001b[39misinstance\u001b[39m(v, torch\u001b[39m.\u001b[39mTensor) \u001b[39melse\u001b[39;00m v) \u001b[39mfor\u001b[39;00m key, v \u001b[39min\u001b[39;00m (case \u001b[39m|\u001b[39m {\u001b[39m'\u001b[39m\u001b[39mtopk\u001b[39m\u001b[39m'\u001b[39m: k})\u001b[39m.\u001b[39mitems()}, indent\u001b[39m=\u001b[39m\u001b[39m2\u001b[39m, ensure_ascii\u001b[39m=\u001b[39m\u001b[39mFalse\u001b[39;00m)\u001b[39m}\u001b[39;00m\u001b[39m\\n\u001b[39;00m\u001b[39m{\u001b[39;00mmsg\u001b[39m}\u001b[39;00m\u001b[39m\"\u001b[39m,\n\u001b[0;32m    492\u001b[0m     )\n",
      "\u001b[1;32md:\\ФТиАД\\RecSys\\RecSys_course\\hw\\hw1\\HW1.ipynb Ячейка 31\u001b[0m in \u001b[0;36mmnap\u001b[1;34m(output, target, topk, normalized)\u001b[0m\n\u001b[0;32m      <a href='vscode-notebook-cell:/d%3A/%D0%A4%D0%A2%D0%B8%D0%90%D0%94/RecSys/RecSys_course/hw/hw1/HW1.ipynb#X15sZmlsZQ%3D%3D?line=6'>7</a>\u001b[0m numerator \u001b[39m=\u001b[39m tens_to_calc\u001b[39m.\u001b[39mwhere((tens_to_calc \u001b[39m==\u001b[39m \u001b[39m0\u001b[39m ), tens_to_calc\u001b[39m.\u001b[39mcumsum(dim\u001b[39m=\u001b[39m\u001b[39m1\u001b[39m))\u001b[39m.\u001b[39mravel()\n\u001b[0;32m      <a href='vscode-notebook-cell:/d%3A/%D0%A4%D0%A2%D0%B8%D0%90%D0%94/RecSys/RecSys_course/hw/hw1/HW1.ipynb#X15sZmlsZQ%3D%3D?line=7'>8</a>\u001b[0m denominator \u001b[39m=\u001b[39m torch\u001b[39m.\u001b[39mones(tens_to_calc\u001b[39m.\u001b[39mshape)\u001b[39m.\u001b[39mcumsum(dim\u001b[39m=\u001b[39m\u001b[39m1\u001b[39m)\u001b[39m.\u001b[39mravel()\n\u001b[1;32m----> <a href='vscode-notebook-cell:/d%3A/%D0%A4%D0%A2%D0%B8%D0%90%D0%94/RecSys/RecSys_course/hw/hw1/HW1.ipynb#X15sZmlsZQ%3D%3D?line=8'>9</a>\u001b[0m result \u001b[39m=\u001b[39m torch\u001b[39m.\u001b[39;49mdiv(numerator, denominator)\u001b[39m.\u001b[39;49mmean(dim\u001b[39m=\u001b[39;49m\u001b[39m1\u001b[39;49m)\u001b[39m.\u001b[39mmean()\u001b[39m.\u001b[39mitem()\n\u001b[0;32m     <a href='vscode-notebook-cell:/d%3A/%D0%A4%D0%A2%D0%B8%D0%90%D0%94/RecSys/RecSys_course/hw/hw1/HW1.ipynb#X15sZmlsZQ%3D%3D?line=9'>10</a>\u001b[0m \u001b[39m# result = np.mean(list(map(lambda x, y: float(x) / float(y), numerator, denominator)))\u001b[39;00m\n\u001b[0;32m     <a href='vscode-notebook-cell:/d%3A/%D0%A4%D0%A2%D0%B8%D0%90%D0%94/RecSys/RecSys_course/hw/hw1/HW1.ipynb#X15sZmlsZQ%3D%3D?line=10'>11</a>\u001b[0m \u001b[39mreturn\u001b[39;00m result\n",
      "\u001b[1;31mIndexError\u001b[0m: Dimension out of range (expected to be in range of [-1, 0], but got 1)"
     ]
    }
   ],
   "source": [
    "tests.run_map(mnap)\n",
    "# tests.run_mnap(mnap)"
   ]
  },
  {
   "cell_type": "markdown",
   "id": "aed91757-0350-4c0b-bd1f-6943793074ba",
   "metadata": {},
   "source": [
    "# Normalized Dicsounted Cumulative Gain\n",
    "\n",
    "\n",
    "$$ NDCG @k = \\frac{DCG@k}{IDCG@k},$$ где \n",
    "$$DCG@k = \\sum_{i=1}^{k} \\frac{2^{rel_{i}} - 1}{log_2 (i + 1)}$$\n",
    "$$IDCG@k = \\sum_{i=1}^{|rel_{k}|} \\frac{2^{rel_{i}} - 1}{log_2 (i + 1)}$$"
   ]
  },
  {
   "cell_type": "code",
   "execution_count": null,
   "id": "72610077-102a-4860-b65e-8f59e0a618e2",
   "metadata": {},
   "outputs": [],
   "source": [
    "def dcg(tensor: torch.Tensor) -> torch.Tensor:\n",
    "    gains = (2**tensor) - 1\n",
    "    return gains / torch.log2(torch.arange(0, tensor.size(-1), dtype=torch.float, device=tensor.device) + 2.0)\n",
    "\n",
    "\n",
    "def ndcg(output: torch.Tensor, target: torch.Tensor, topk: int) -> torch.Tensor:\n",
    "    # output, target ~ (users, items)\n",
    "    # target_sorted_by_output ~ (users, items)\n",
    "    target_sorted_by_output = prepare_target(output, target)\n",
    "    ideal_target = prepare_target(target, target)\n",
    "    # YOUR CODE HERE\n",
    "    return 0"
   ]
  },
  {
   "cell_type": "code",
   "execution_count": null,
   "id": "44fa9a52-19e5-4a15-8bb0-7c034655a689",
   "metadata": {},
   "outputs": [],
   "source": [
    "tests.run_ndcg(ndcg)"
   ]
  },
  {
   "cell_type": "code",
   "execution_count": null,
   "id": "11c69c08",
   "metadata": {},
   "outputs": [],
   "source": []
  }
 ],
 "metadata": {
  "kernelspec": {
   "display_name": "Python 3.10.7 64-bit (microsoft store)",
   "language": "python",
   "name": "python3"
  },
  "language_info": {
   "codemirror_mode": {
    "name": "ipython",
    "version": 3
   },
   "file_extension": ".py",
   "mimetype": "text/x-python",
   "name": "python",
   "nbconvert_exporter": "python",
   "pygments_lexer": "ipython3",
   "version": "3.10.7"
  },
  "vscode": {
   "interpreter": {
    "hash": "570dd33043ea43a5929913ff205be499021c2ab8ef3bcad34e41dcd3206e6bcb"
   }
  }
 },
 "nbformat": 4,
 "nbformat_minor": 5
}
