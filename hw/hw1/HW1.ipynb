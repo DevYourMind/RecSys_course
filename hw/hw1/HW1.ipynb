{
 "cells": [
  {
   "cell_type": "markdown",
   "id": "63151877",
   "metadata": {},
   "source": [
    "## <center> RecSys. Home Assignment 1</center>"
   ]
  },
  {
   "cell_type": "markdown",
   "id": "9c581a7d",
   "metadata": {},
   "source": [
    "Один из важных навыков для построения рекомендательных систем - это умение корректно считать метрики качества ранжирования.\n",
    "\n",
    "В этой домашке мы предлагаем вам потренироваться в этом, и имплементировать метрики Precision@k, Recall@k, MNAP@k и NDCG@k по формулам, чтобы дальше переиспользовать при построении рекомендательных моделей. \n",
    "\n",
    "Критерии оценивания:\n",
    "* Что-то пытался сделать, дописал свой код, но ничего не получилось - 1 балл. \n",
    "* Не совсем корректная имплементация одной из 4 метрик, прохождение части тестов - 1 балл. \n",
    "* Корректная имплементация одной из 4 метрик, прохождение всех тестов - 2 балла. \n",
    "* +1 балл, если получится написать Precision@k, Recall@k без циклов.\n",
    "* +1 балл, если получится написать NDCG@k, MNAP@k без циклов.\n",
    "\n",
    "Дедлайн сдачи - **10 октября 23:59**. \n",
    "\n",
    "Формат сдачи - отправить Jupyter notebook на почту ananyeva.me@gmail.com с темой письма \"[RecSys HW1]\" и названием файла Name_Surname_HW1.ipynb.  \n",
    "\n",
    "Удачи!"
   ]
  },
  {
   "cell_type": "code",
   "execution_count": 1,
   "id": "6c928452-693b-4a9d-bc66-284765b6ec50",
   "metadata": {},
   "outputs": [
    {
     "name": "stderr",
     "output_type": "stream",
     "text": [
      "C:\\Users\\dimaz\\AppData\\Local\\Packages\\PythonSoftwareFoundation.Python.3.10_qbz5n2kfra8p0\\LocalCache\\local-packages\\Python310\\site-packages\\tqdm\\auto.py:22: TqdmWarning: IProgress not found. Please update jupyter and ipywidgets. See https://ipywidgets.readthedocs.io/en/stable/user_install.html\n",
      "  from .autonotebook import tqdm as notebook_tqdm\n"
     ]
    }
   ],
   "source": [
    "from typing import NamedTuple, Union\n",
    "import tests\n",
    "import torch\n",
    "from decimal import Decimal\n",
    "import numpy as np"
   ]
  },
  {
   "cell_type": "code",
   "execution_count": 2,
   "id": "93c1466c-0e00-42ee-9e6d-f822da820a91",
   "metadata": {},
   "outputs": [],
   "source": [
    "class PrepareTargetResult(NamedTuple):\n",
    "    values: torch.Tensor\n",
    "    indices: torch.Tensor\n",
    "\n",
    "\n",
    "def validate_metric_inputs(output: torch.Tensor, target: torch.Tensor) -> None:\n",
    "    if output.size() != target.size():\n",
    "        raise IndexError(\n",
    "            \"Unequal sizes for output and target: \"\n",
    "            f\"output - {output.size()}, target - {target.size()}.\"\n",
    "        )\n",
    "    if not (target.eq(0) | target.eq(1)).all():\n",
    "        raise ValueError(\n",
    "            \"Target contains values outside of 0 and 1.\" f\"\\nTarget:\\n{target}\"\n",
    "        )\n",
    "\n",
    "\n",
    "def prepare_target(\n",
    "    output: torch.Tensor, target: torch.Tensor, return_indices: bool = False\n",
    ") -> Union[torch.Tensor, PrepareTargetResult]:\n",
    "    validate_metric_inputs(output, target)\n",
    "    # Define order by sorted output scores.\n",
    "    indices = output.argsort(dim=-1, descending=True)\n",
    "    sorted_target = torch.gather(target, index=indices, dim=-1)\n",
    "    return (\n",
    "        PrepareTargetResult(sorted_target, indices) if return_indices else sorted_target\n",
    "    )\n",
    "\n",
    "\n",
    "def nan_to_num(tensor: torch.Tensor, nan: float = 0.0) -> torch.Tensor:\n",
    "    return torch.where(\n",
    "        torch.isnan(tensor) | torch.isinf(tensor),\n",
    "        torch.full_like(tensor, fill_value=nan),\n",
    "        tensor,\n",
    "    )\n",
    "\n",
    "\n",
    "def my_tests(cases, metric):\n",
    "    flg = False\n",
    "    for index, case in enumerate(cases):\n",
    "        print(f\"\\ncase: {index}\\n\")\n",
    "        for k in case['topk']:\n",
    "            result  = metric(case[\"output\"], case[\"target\"], k)\n",
    "            if result == case[\"expected\"][k]:\n",
    "                print(k, 'good')\n",
    "            else:\n",
    "                print(k, 'ALERT!')\n",
    "                print(result)\n",
    "                flg = True\n",
    "                break\n",
    "        if flg:\n",
    "            break"
   ]
  },
  {
   "cell_type": "markdown",
   "id": "94b41fe1-8811-477d-8908-f1ab0d9547b6",
   "metadata": {},
   "source": [
    "# Precision\n",
    "\n",
    "$$P@k = \\frac{\\sum_{i=1}^k [rel_{i}]}{k}$$"
   ]
  },
  {
   "cell_type": "code",
   "execution_count": 3,
   "id": "679e4cb5-0fde-43e6-92ff-de003a18057a",
   "metadata": {},
   "outputs": [],
   "source": [
    "def precision(output: torch.Tensor, target: torch.Tensor, topk: int) -> torch.Tensor:\n",
    "    # output, target ~ (users, items)\n",
    "    # target_sorted_by_output ~ (users, items)\n",
    "    target_sorted_by_output = prepare_target(output, target)\n",
    "    # YOUR CODE HERE\n",
    "    topk = min(target.shape[1], topk)\n",
    "    result = np.mean(list(map(lambda x: x/topk, np.array(torch.sum(target_sorted_by_output[:, :topk], dim=1)))))\n",
    "    return result"
   ]
  },
  {
   "cell_type": "code",
   "execution_count": 4,
   "id": "a600b149-385b-40ad-b97d-b016426a4e17",
   "metadata": {},
   "outputs": [],
   "source": [
    "tests.run_precision(precision)"
   ]
  },
  {
   "cell_type": "markdown",
   "id": "0a057208-db6d-48cf-b5e1-7203efe94e1c",
   "metadata": {},
   "source": [
    "# Recall\n",
    "\n",
    "$$P@k = \\frac{\\sum_{i=1}^k [rel_{i}]}{|rel_k|}$$"
   ]
  },
  {
   "cell_type": "code",
   "execution_count": 5,
   "id": "d67da32b-2e3a-4e1d-a3df-1f32d117b95b",
   "metadata": {},
   "outputs": [],
   "source": [
    "def recall(output: torch.Tensor, target: torch.Tensor, topk: int) -> torch.Tensor:\n",
    "    # output, target ~ (users, items)\n",
    "    # target_sorted_by_output ~ (users, items)\n",
    "    target_sorted_by_output = prepare_target(output, target)\n",
    "    # YOUR CODE HERE\n",
    "    result = torch.div(torch.sum(target_sorted_by_output[:, :topk], dim=1), torch.sum(target_sorted_by_output, dim=1)).mean()\n",
    "    if torch.isnan(result):\n",
    "        result = 0.0\n",
    "    return result"
   ]
  },
  {
   "cell_type": "code",
   "execution_count": 6,
   "id": "e77cb6cc-2ca7-483a-abe9-75cbaf92539c",
   "metadata": {},
   "outputs": [],
   "source": [
    "tests.run_recall(recall)"
   ]
  },
  {
   "cell_type": "markdown",
   "id": "e6362e92-6ad3-441e-ab38-bd931348e920",
   "metadata": {},
   "source": [
    "# Mean (Normalized) Average Precision\n",
    "\n",
    "\n",
    "$$AP@k = \\frac{\\sum_{i=1}^{k} P@i \\cdot [rel@ i]} {\\sum_{i=1}^{k}[rel@i]}$$\n",
    "$$MNAP@k = \\frac{1}{N} \\sum_{k=1}^{N} \\frac{1}{min(k, m_u)} AP@k,$$\n",
    "\n",
    "где $m_u$ - количество items с интеракциями у пользователя $u$ в тестовый период, <br>\n",
    "$N$ - количество пользователей. "
   ]
  },
  {
   "cell_type": "code",
   "execution_count": 7,
   "id": "1daf876a-4b0b-48af-a38d-57423e5ff46d",
   "metadata": {},
   "outputs": [],
   "source": [
    "def mnap(output: torch.Tensor, target: torch.Tensor, topk: int, normalized: bool = True) -> torch.Tensor:\n",
    "    # output, target ~ (users, items)\n",
    "    # target_sorted_by_output ~ (users, items)\n",
    "    target_sorted_by_output = prepare_target(output, target)\n",
    "    # YOUR CODE HERE\n",
    "    return 0"
   ]
  },
  {
   "cell_type": "code",
   "execution_count": 8,
   "id": "39353a96-0ce9-493d-a56c-29c85759bf7b",
   "metadata": {},
   "outputs": [
    {
     "ename": "AssertionError",
     "evalue": "Inputs:{\n  \"output\": [\n    [\n      0.0,\n      0.0,\n      0.0,\n      0.0\n    ]\n  ],\n  \"target\": [\n    [\n      0.0,\n      0.0,\n      0.0,\n      0.0\n    ]\n  ],\n  \"topk\": 1\n}\nThe (d)types do not match: <class 'int'> != <class 'float'>.",
     "output_type": "error",
     "traceback": [
      "\u001b[1;31m---------------------------------------------------------------------------\u001b[0m",
      "\u001b[1;31mAssertionError\u001b[0m                            Traceback (most recent call last)",
      "\u001b[1;32md:\\ФТиАД\\RecSys\\RecSys_course\\hw\\hw1\\HW1.ipynb Ячейка 13\u001b[0m in \u001b[0;36m<cell line: 1>\u001b[1;34m()\u001b[0m\n\u001b[1;32m----> <a href='vscode-notebook-cell:/d%3A/%D0%A4%D0%A2%D0%B8%D0%90%D0%94/RecSys/RecSys_course/hw/hw1/HW1.ipynb#X15sZmlsZQ%3D%3D?line=0'>1</a>\u001b[0m tests\u001b[39m.\u001b[39;49mrun_map(mnap)\n\u001b[0;32m      <a href='vscode-notebook-cell:/d%3A/%D0%A4%D0%A2%D0%B8%D0%90%D0%94/RecSys/RecSys_course/hw/hw1/HW1.ipynb#X15sZmlsZQ%3D%3D?line=1'>2</a>\u001b[0m tests\u001b[39m.\u001b[39mrun_mnap(mnap)\n",
      "File \u001b[1;32md:\\ФТиАД\\RecSys\\RecSys_course\\hw\\hw1\\tests.py:278\u001b[0m, in \u001b[0;36mrun_map\u001b[1;34m(func)\u001b[0m\n\u001b[0;32m    180\u001b[0m \u001b[39mdef\u001b[39;00m \u001b[39mrun_map\u001b[39m(func: Callable) \u001b[39m-\u001b[39m\u001b[39m>\u001b[39m \u001b[39mNone\u001b[39;00m:\n\u001b[0;32m    181\u001b[0m     cases \u001b[39m=\u001b[39m [\n\u001b[0;32m    182\u001b[0m         {\n\u001b[0;32m    183\u001b[0m             \u001b[39m\"\u001b[39m\u001b[39moutput\u001b[39m\u001b[39m\"\u001b[39m: torch\u001b[39m.\u001b[39mTensor([[\u001b[39m0\u001b[39m, \u001b[39m0\u001b[39m, \u001b[39m0\u001b[39m, \u001b[39m0\u001b[39m]]),\n\u001b[1;32m   (...)\u001b[0m\n\u001b[0;32m    276\u001b[0m         },\n\u001b[0;32m    277\u001b[0m     ]\n\u001b[1;32m--> 278\u001b[0m     \u001b[39mreturn\u001b[39;00m _run_tests(partial(func, normalized\u001b[39m=\u001b[39;49m\u001b[39mFalse\u001b[39;49;00m), cases)\n",
      "File \u001b[1;32md:\\ФТиАД\\RecSys\\RecSys_course\\hw\\hw1\\tests.py:488\u001b[0m, in \u001b[0;36m_run_tests\u001b[1;34m(func, cases)\u001b[0m\n\u001b[0;32m    486\u001b[0m \u001b[39mfor\u001b[39;00m k \u001b[39min\u001b[39;00m case\u001b[39m.\u001b[39mpop(\u001b[39m\"\u001b[39m\u001b[39mtopk\u001b[39m\u001b[39m\"\u001b[39m):\n\u001b[0;32m    487\u001b[0m     actual \u001b[39m=\u001b[39m func(\u001b[39m*\u001b[39m\u001b[39m*\u001b[39mcase, topk\u001b[39m=\u001b[39mk)\n\u001b[1;32m--> 488\u001b[0m     torch\u001b[39m.\u001b[39;49mtesting\u001b[39m.\u001b[39;49massert_close(\n\u001b[0;32m    489\u001b[0m         actual,\n\u001b[0;32m    490\u001b[0m         torch\u001b[39m.\u001b[39;49mtensor(expected[k]) \u001b[39mif\u001b[39;49;00m \u001b[39misinstance\u001b[39;49m(actual, torch\u001b[39m.\u001b[39;49mTensor) \u001b[39melse\u001b[39;49;00m expected[k],\n\u001b[0;32m    491\u001b[0m         msg\u001b[39m=\u001b[39;49m\u001b[39mlambda\u001b[39;49;00m msg: \u001b[39mf\u001b[39;49m\u001b[39m\"\u001b[39;49m\u001b[39mInputs:\u001b[39;49m\u001b[39m{\u001b[39;49;00mjson\u001b[39m.\u001b[39;49mdumps({key: (v\u001b[39m.\u001b[39;49mtolist() \u001b[39mif\u001b[39;49;00m \u001b[39misinstance\u001b[39;49m(v, torch\u001b[39m.\u001b[39;49mTensor) \u001b[39melse\u001b[39;49;00m v) \u001b[39mfor\u001b[39;49;00m key, v \u001b[39min\u001b[39;49;00m (case \u001b[39m|\u001b[39;49m {\u001b[39m'\u001b[39;49m\u001b[39mtopk\u001b[39;49m\u001b[39m'\u001b[39;49m: k})\u001b[39m.\u001b[39;49mitems()}, indent\u001b[39m=\u001b[39;49m\u001b[39m2\u001b[39;49m, ensure_ascii\u001b[39m=\u001b[39;49m\u001b[39mFalse\u001b[39;49;00m)\u001b[39m}\u001b[39;49;00m\u001b[39m\\n\u001b[39;49;00m\u001b[39m{\u001b[39;49;00mmsg\u001b[39m}\u001b[39;49;00m\u001b[39m\"\u001b[39;49m,\n\u001b[0;32m    492\u001b[0m     )\n",
      "    \u001b[1;31m[... skipping hidden 1 frame]\u001b[0m\n",
      "File \u001b[1;32m~\\AppData\\Local\\Packages\\PythonSoftwareFoundation.Python.3.10_qbz5n2kfra8p0\\LocalCache\\local-packages\\Python310\\site-packages\\torch\\testing\\_comparison.py:1095\u001b[0m, in \u001b[0;36massert_equal\u001b[1;34m(actual, expected, pair_types, sequence_types, mapping_types, msg, **options)\u001b[0m\n\u001b[0;32m   1092\u001b[0m     \u001b[39mreturn\u001b[39;00m\n\u001b[0;32m   1094\u001b[0m \u001b[39m# TODO: compose all metas into one AssertionError\u001b[39;00m\n\u001b[1;32m-> 1095\u001b[0m \u001b[39mraise\u001b[39;00m error_metas[\u001b[39m0\u001b[39m]\u001b[39m.\u001b[39mto_error(msg)\n",
      "\u001b[1;31mAssertionError\u001b[0m: Inputs:{\n  \"output\": [\n    [\n      0.0,\n      0.0,\n      0.0,\n      0.0\n    ]\n  ],\n  \"target\": [\n    [\n      0.0,\n      0.0,\n      0.0,\n      0.0\n    ]\n  ],\n  \"topk\": 1\n}\nThe (d)types do not match: <class 'int'> != <class 'float'>."
     ]
    }
   ],
   "source": [
    "tests.run_map(mnap)\n",
    "tests.run_mnap(mnap)"
   ]
  },
  {
   "cell_type": "markdown",
   "id": "aed91757-0350-4c0b-bd1f-6943793074ba",
   "metadata": {},
   "source": [
    "# Normalized Dicsounted Cumulative Gain\n",
    "\n",
    "\n",
    "$$ NDCG @k = \\frac{DCG@k}{IDCG@k},$$ где \n",
    "$$DCG@k = \\sum_{i=1}^{k} \\frac{2^{rel_{i}} - 1}{log_2 (i + 1)}$$\n",
    "$$IDCG@k = \\sum_{i=1}^{|rel_{k}|} \\frac{2^{rel_{i}} - 1}{log_2 (i + 1)}$$"
   ]
  },
  {
   "cell_type": "code",
   "execution_count": null,
   "id": "72610077-102a-4860-b65e-8f59e0a618e2",
   "metadata": {},
   "outputs": [],
   "source": [
    "def dcg(tensor: torch.Tensor) -> torch.Tensor:\n",
    "    gains = (2**tensor) - 1\n",
    "    return gains / torch.log2(torch.arange(0, tensor.size(-1), dtype=torch.float, device=tensor.device) + 2.0)\n",
    "\n",
    "\n",
    "def ndcg(output: torch.Tensor, target: torch.Tensor, topk: int) -> torch.Tensor:\n",
    "    # output, target ~ (users, items)\n",
    "    # target_sorted_by_output ~ (users, items)\n",
    "    target_sorted_by_output = prepare_target(output, target)\n",
    "    ideal_target = prepare_target(target, target)\n",
    "    # YOUR CODE HERE\n",
    "    return 0"
   ]
  },
  {
   "cell_type": "code",
   "execution_count": null,
   "id": "44fa9a52-19e5-4a15-8bb0-7c034655a689",
   "metadata": {},
   "outputs": [],
   "source": [
    "tests.run_ndcg(ndcg)"
   ]
  },
  {
   "cell_type": "code",
   "execution_count": null,
   "id": "11c69c08",
   "metadata": {},
   "outputs": [],
   "source": []
  }
 ],
 "metadata": {
  "kernelspec": {
   "display_name": "Python 3.10.7 64-bit (microsoft store)",
   "language": "python",
   "name": "python3"
  },
  "language_info": {
   "codemirror_mode": {
    "name": "ipython",
    "version": 3
   },
   "file_extension": ".py",
   "mimetype": "text/x-python",
   "name": "python",
   "nbconvert_exporter": "python",
   "pygments_lexer": "ipython3",
   "version": "3.10.7"
  },
  "vscode": {
   "interpreter": {
    "hash": "570dd33043ea43a5929913ff205be499021c2ab8ef3bcad34e41dcd3206e6bcb"
   }
  }
 },
 "nbformat": 4,
 "nbformat_minor": 5
}
