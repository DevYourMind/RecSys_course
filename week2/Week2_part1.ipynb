{
 "cells": [
  {
   "cell_type": "markdown",
   "metadata": {
    "collapsed": true,
    "id": "ZGADXLCLOKWn"
   },
   "source": [
    "# <center> Recommender Systems </center>\n",
    "## <center>  Week 2. Basic baselines </center>"
   ]
  },
  {
   "cell_type": "code",
   "execution_count": 1,
   "metadata": {
    "id": "Ugi6tGz_OKWv"
   },
   "outputs": [],
   "source": [
    "import pickle\n",
    "import numpy as np\n",
    "from math import sqrt\n",
    "from tqdm import tqdm\n",
    "import pandas as pd"
   ]
  },
  {
   "cell_type": "markdown",
   "metadata": {
    "id": "VsGoBnIBOKW7"
   },
   "source": [
    "## Словарь с предпочтениями {кинокритик: {фильм : оценка}}"
   ]
  },
  {
   "cell_type": "markdown",
   "metadata": {},
   "source": [
    "Посмотрим на explicit данные - когда у нас есть оценки по пользователям. "
   ]
  },
  {
   "cell_type": "code",
   "execution_count": 2,
   "metadata": {
    "colab": {
     "base_uri": "https://localhost:8080/",
     "height": 633
    },
    "id": "ONGxTIH1OKW9",
    "outputId": "61b0705f-51c8-4cf5-d2a0-d77c5c1281e8",
    "scrolled": false
   },
   "outputs": [
    {
     "data": {
      "text/plain": [
       "{'Lisa Rose': {'Lady in the Water': 2.5,\n",
       "  'Snakes on a Plane': 3.5,\n",
       "  'Just My Luck': 3.0,\n",
       "  'Superman Returns': 3.5,\n",
       "  'You, Me and Dupree': 2.5,\n",
       "  'The Night Listener': 3.0},\n",
       " 'Gene Seymour': {'Lady in the Water': 3.0,\n",
       "  'Snakes on a Plane': 3.5,\n",
       "  'Just My Luck': 1.5,\n",
       "  'Superman Returns': 5.0,\n",
       "  'The Night Listener': 3.0,\n",
       "  'You, Me and Dupree': 3.5},\n",
       " 'Michael Phillips': {'Lady in the Water': 2.5,\n",
       "  'Snakes on a Plane': 3.0,\n",
       "  'Superman Returns': 3.5,\n",
       "  'The Night Listener': 4.0},\n",
       " 'Claudia Puig': {'Snakes on a Plane': 3.5,\n",
       "  'Just My Luck': 3.0,\n",
       "  'The Night Listener': 4.5,\n",
       "  'Superman Returns': 4.0,\n",
       "  'You, Me and Dupree': 2.5},\n",
       " 'Mick LaSalle': {'Lady in the Water': 3.0,\n",
       "  'Snakes on a Plane': 4.0,\n",
       "  'Just My Luck': 2.0,\n",
       "  'Superman Returns': 3.0,\n",
       "  'The Night Listener': 3.0,\n",
       "  'You, Me and Dupree': 2.0},\n",
       " 'Jack Matthews': {'Lady in the Water': 3.0,\n",
       "  'Snakes on a Plane': 4.0,\n",
       "  'The Night Listener': 3.0,\n",
       "  'Superman Returns': 5.0,\n",
       "  'You, Me and Dupree': 3.5},\n",
       " 'Toby': {'Snakes on a Plane': 4.5,\n",
       "  'You, Me and Dupree': 1.0,\n",
       "  'Superman Returns': 4.0}}"
      ]
     },
     "execution_count": 2,
     "metadata": {},
     "output_type": "execute_result"
    }
   ],
   "source": [
    "with open('critics_reviews', 'rb') as f:\n",
    "    reviews = pickle.load(f)\n",
    "\n",
    "reviews"
   ]
  },
  {
   "cell_type": "markdown",
   "metadata": {},
   "source": [
    "1. Сделаем первый бейзлайн **Top Popular**. Однако, популярность можно понять по-разному, например, как наибольшее число просмотров по всем пользователям. Дополнительно пофильтруем фильмы и выведем топ самых просматриваемых фильмов для пользователя, оставив только те, которые он еще не видел."
   ]
  },
  {
   "cell_type": "code",
   "execution_count": 3,
   "metadata": {},
   "outputs": [],
   "source": [
    "def get_pop_movies(reviews):\n",
    "    movies_rating = {}\n",
    "    for user, films in reviews.items():\n",
    "        for film, _ in films.items():\n",
    "            movies_rating.setdefault(film, 0)\n",
    "            movies_rating[film] += 1\n",
    "    movies_rating = dict(sorted(movies_rating.items(), key=lambda x: x[1], reverse=True))\n",
    "    return movies_rating\n",
    "\n",
    "\n",
    "def top_pop_recommender(reviews, person):\n",
    "    recoms = get_pop_movies(reviews)\n",
    "    recoms = {k: v for k, v in recoms.items() if k not in reviews[person]}\n",
    "    return recoms"
   ]
  },
  {
   "cell_type": "code",
   "execution_count": 4,
   "metadata": {},
   "outputs": [
    {
     "data": {
      "text/plain": [
       "{'Snakes on a Plane': 7,\n",
       " 'Superman Returns': 7,\n",
       " 'You, Me and Dupree': 6,\n",
       " 'The Night Listener': 6,\n",
       " 'Lady in the Water': 5,\n",
       " 'Just My Luck': 4}"
      ]
     },
     "execution_count": 4,
     "metadata": {},
     "output_type": "execute_result"
    }
   ],
   "source": [
    "get_pop_movies(reviews)"
   ]
  },
  {
   "cell_type": "code",
   "execution_count": 5,
   "metadata": {},
   "outputs": [
    {
     "data": {
      "text/plain": [
       "{'The Night Listener': 6, 'Lady in the Water': 5, 'Just My Luck': 4}"
      ]
     },
     "execution_count": 5,
     "metadata": {},
     "output_type": "execute_result"
    }
   ],
   "source": [
    "top_pop_recommender(reviews, 'Toby')"
   ]
  },
  {
   "cell_type": "markdown",
   "metadata": {},
   "source": [
    "2. **Top Popular v.2.0**. Далеко не всегда наиболее часто просматриваемые - это самые лучшие по рейтингу фильмы. Можно посчитать топ фильмов по среднему рейтингу из отзывов пользователей. Сделаем рекомендации по топу популярности на основе средней оценки фильма:  "
   ]
  },
  {
   "cell_type": "code",
   "execution_count": 9,
   "metadata": {},
   "outputs": [],
   "source": [
    "def get_movies_avg_scores(reviews):\n",
    "    movies_rating = {}\n",
    "    for user, films in reviews.items():\n",
    "        for film, score in films.items():\n",
    "            movies_rating.setdefault(film, [])\n",
    "            movies_rating[film].append(score)\n",
    "\n",
    "    movies_rating = {k: np.mean(v) for k, v in movies_rating.items()}\n",
    "    movies_rating = dict(sorted(movies_rating.items(), key=lambda x: x[1], reverse=True))\n",
    "    return movies_rating\n",
    "\n",
    "\n",
    "def top_avg_scores_recommender(reviews, person):\n",
    "    recoms = get_movies_avg_scores(reviews)\n",
    "    new_movies = set(recoms.keys()).difference(reviews[person])\n",
    "    recoms = {k: round(v, 2) for k, v in recoms.items() if k in new_movies}\n",
    "    return recoms"
   ]
  },
  {
   "cell_type": "code",
   "execution_count": 10,
   "metadata": {},
   "outputs": [
    {
     "data": {
      "text/plain": [
       "{'Superman Returns': 4.0,\n",
       " 'Snakes on a Plane': 3.7142857142857144,\n",
       " 'The Night Listener': 3.4166666666666665,\n",
       " 'Lady in the Water': 2.8,\n",
       " 'You, Me and Dupree': 2.5,\n",
       " 'Just My Luck': 2.375}"
      ]
     },
     "execution_count": 10,
     "metadata": {},
     "output_type": "execute_result"
    }
   ],
   "source": [
    "get_movies_avg_scores(reviews)"
   ]
  },
  {
   "cell_type": "code",
   "execution_count": 11,
   "metadata": {},
   "outputs": [
    {
     "data": {
      "text/plain": [
       "{'The Night Listener': 3.42, 'Lady in the Water': 2.8, 'Just My Luck': 2.38}"
      ]
     },
     "execution_count": 11,
     "metadata": {},
     "output_type": "execute_result"
    }
   ],
   "source": [
    "top_avg_scores_recommender(reviews, 'Toby')"
   ]
  },
  {
   "cell_type": "markdown",
   "metadata": {},
   "source": [
    "+ Для некоторых доменов у нас будут допустимы повторы по объектам (например, товары в супермаркете). К тому же, Top popular - это неперсональные рекомендации. Как вы думаете, если повторы допустимы, какие можно сделать персонализированные бейзлайны на статистиках? При условии, что есть только интеракции (то есть, никакие дополнительные признаки не доступны). "
   ]
  },
  {
   "cell_type": "markdown",
   "metadata": {},
   "source": [
    "Дополнительно, простыми, но надеждными бейзлайнами будет посчитать рекомендации на основе сходства пользователей или объектов (user/item similarity). Подход обычно состоит из этапов:\n",
    "\n",
    "* Нормализация оценок.\n",
    "* Выбор и расчет метрики схожести.\n",
    "* Выбор соседей для формирования множества рекомендаций.\n"
   ]
  },
  {
   "cell_type": "markdown",
   "metadata": {},
   "source": [
    "3. **User-similarity**. Давайте рассмотрим такой вариант - нужно найти для $i$-ого пользователя $k$ похожих на него соседей (similarity user-based подход). По соседям соберем множество просмотренных фильмов и выведем топ $n$ рекомендаций в порядке убывания их среднего рейтинга по соседям, где оценка каждого соседа учитывается c весом его схожести с $i$-м пользователем. \n",
    "\n",
    "Вспомним самые простые и распространенные метрики схожести (расстояния): \n",
    "\n",
    "<img src=https://www.researchgate.net/profile/Barthelemy-Durette/publication/275954089/figure/tbl2/AS:614304592166937@1523473036482/Formulae-of-the-similarity-and-distance-measures.png>"
   ]
  },
  {
   "cell_type": "code",
   "execution_count": 45,
   "metadata": {
    "id": "Uj--YOIBOKXV"
   },
   "outputs": [],
   "source": [
    "def sim_distance(reviews, person1, person2):\n",
    "    sum_of_squares = sum([(reviews[person1][item] - reviews[person2][item])**2\n",
    "                         for item in reviews[person1] if item in reviews[person2]])\n",
    "    return 1/(1 + np.sqrt(sum_of_squares))"
   ]
  },
  {
   "cell_type": "markdown",
   "metadata": {},
   "source": [
    "Выведем попарные метрики схожести пользователей:"
   ]
  },
  {
   "cell_type": "code",
   "execution_count": 46,
   "metadata": {
    "colab": {
     "base_uri": "https://localhost:8080/"
    },
    "id": "T6DlxaG-OKXZ",
    "outputId": "c020bd50-31cf-4a33-cff1-9b9a436a0db9"
   },
   "outputs": [
    {
     "name": "stdout",
     "output_type": "stream",
     "text": [
      "Lisa Rose's & Gene Seymour's similarity:  0.29\n",
      "Lisa Rose's & Michael Phillips's similarity:  0.47\n",
      "Lisa Rose's & Claudia Puig's similarity:  0.39\n",
      "Lisa Rose's & Mick LaSalle's similarity:  0.41\n",
      "Lisa Rose's & Jack Matthews's similarity:  0.34\n",
      "Lisa Rose's & Toby's similarity:  0.35\n",
      "Gene Seymour's & Michael Phillips's similarity:  0.34\n",
      "Gene Seymour's & Claudia Puig's similarity:  0.28\n",
      "Gene Seymour's & Mick LaSalle's similarity:  0.28\n",
      "Gene Seymour's & Jack Matthews's similarity:  0.67\n",
      "Gene Seymour's & Toby's similarity:  0.26\n",
      "Michael Phillips's & Claudia Puig's similarity:  0.54\n",
      "Michael Phillips's & Mick LaSalle's similarity:  0.39\n",
      "Michael Phillips's & Jack Matthews's similarity:  0.32\n",
      "Michael Phillips's & Toby's similarity:  0.39\n",
      "Claudia Puig's & Mick LaSalle's similarity:  0.31\n",
      "Claudia Puig's & Jack Matthews's similarity:  0.32\n",
      "Claudia Puig's & Toby's similarity:  0.36\n",
      "Mick LaSalle's & Jack Matthews's similarity:  0.29\n",
      "Mick LaSalle's & Toby's similarity:  0.4\n",
      "Jack Matthews's & Toby's similarity:  0.27\n"
     ]
    }
   ],
   "source": [
    "compared = set()\n",
    "for first in reviews:\n",
    "    for second in reviews:\n",
    "        compared.add((first, second))\n",
    "        if first != second and (second, first) not in compared:\n",
    "            print(f\"{first}'s & {second}'s similarity: \", round(sim_distance(reviews, first, second), 2))"
   ]
  },
  {
   "cell_type": "markdown",
   "metadata": {},
   "source": [
    "Почему бы не взять коэффициент корреляции?\n",
    "\n",
    "<img src=https://wikimedia.org/api/rest_v1/media/math/render/svg/2b9c2079a3ffc1aacd36201ea0a3fb2460dc226f>"
   ]
  },
  {
   "cell_type": "markdown",
   "metadata": {},
   "source": [
    "<img src=https://wikimedia.org/api/rest_v1/media/math/render/svg/b87fab4bd95646a6aa894efe96e894761c94498f>\n",
    "\n",
    "где $n$ - размер выборки, <br>\n",
    "$x_{i},y_{i}$ - оценки первого и второго пользователя <br>\n",
    "$\\bar {x}={\\frac {1}{n}}\\sum _{i=1}^{n}x_{i}$ выборочное среднее; аналогично для $\\bar {y}$. "
   ]
  },
  {
   "cell_type": "code",
   "execution_count": 8,
   "metadata": {},
   "outputs": [],
   "source": [
    "def sim_pearson(reviews, person1, person2):\n",
    "    stats = {}\n",
    "    similar = list(set(reviews[person1].keys()) & set(reviews[person2].keys()))\n",
    "    for person in [person1, person2]:\n",
    "        stats.setdefault(person, {'ranks': 0, 'sum_ranks': 0, 'sum_ranks_sq': 0})\n",
    "        stats[person]['ranks'] = [reviews[person][i] for i in similar]\n",
    "        stats[person]['sum_ranks'] = np.sum(stats[person]['ranks'])\n",
    "        stats[person]['sum_ranks_sq'] = np.sum([x ** 2 for x in stats[person]['ranks']])\n",
    "\n",
    "    n = len(similar)\n",
    "    sum_product = np.dot(stats[person1]['ranks'], stats[person2]['ranks'])\n",
    "    numerator = n * sum_product - stats[person1]['sum_ranks'] * stats[person2]['sum_ranks']\n",
    "    denominator = np.sqrt((n * stats[person1]['sum_ranks_sq'] - stats[person1]['sum_ranks'] ** 2) *\n",
    "                          (n * stats[person2]['sum_ranks_sq'] - stats[person2]['sum_ranks'] ** 2))\n",
    "    if denominator == 0:\n",
    "        return 0\n",
    "    r_coeff = numerator / denominator\n",
    "    return r_coeff"
   ]
  },
  {
   "cell_type": "code",
   "execution_count": 9,
   "metadata": {},
   "outputs": [
    {
     "name": "stdout",
     "output_type": "stream",
     "text": [
      "Lisa Rose and Gene Seymour correlation similarity:  0.4\n",
      "Lisa Rose and Michael Phillips correlation similarity:  0.4\n",
      "Lisa Rose and Claudia Puig correlation similarity:  0.57\n",
      "Lisa Rose and Mick LaSalle correlation similarity:  0.59\n",
      "Lisa Rose and Jack Matthews correlation similarity:  0.75\n",
      "Lisa Rose and Toby correlation similarity:  0.99\n",
      "Gene Seymour and Michael Phillips correlation similarity:  0.2\n",
      "Gene Seymour and Claudia Puig correlation similarity:  0.31\n",
      "Gene Seymour and Mick LaSalle correlation similarity:  0.41\n",
      "Gene Seymour and Jack Matthews correlation similarity:  0.96\n",
      "Gene Seymour and Toby correlation similarity:  0.38\n",
      "Michael Phillips and Claudia Puig correlation similarity:  1.0\n",
      "Michael Phillips and Mick LaSalle correlation similarity:  -0.26\n",
      "Michael Phillips and Jack Matthews correlation similarity:  0.13\n",
      "Michael Phillips and Toby correlation similarity:  -1.0\n",
      "Claudia Puig and Mick LaSalle correlation similarity:  0.57\n",
      "Claudia Puig and Jack Matthews correlation similarity:  0.03\n",
      "Claudia Puig and Toby correlation similarity:  0.89\n",
      "Mick LaSalle and Jack Matthews correlation similarity:  0.21\n",
      "Mick LaSalle and Toby correlation similarity:  0.92\n",
      "Jack Matthews and Toby correlation similarity:  0.66\n"
     ]
    }
   ],
   "source": [
    "compared = set()\n",
    "for first in reviews:\n",
    "    for second in reviews:\n",
    "        compared.add((first, second))\n",
    "        if first != second and (second, first) not in compared:\n",
    "            print(f'{first} and {second} correlation similarity: ', round(sim_pearson(reviews, first, second), 2))"
   ]
  },
  {
   "cell_type": "markdown",
   "metadata": {},
   "source": [
    "Давайте посмотрим на коэффициенты корреляции. У нас нашлось несколько примеров, у которых коэффициент корреляции равен 1. И есть даже сильная обратная линейная взаимосвязь: -1. \n",
    "\n",
    "Что можно делать с отрицательными корреляциями? Какие есть недостатки при использовании этой метрики?"
   ]
  },
  {
   "cell_type": "code",
   "execution_count": 95,
   "metadata": {},
   "outputs": [
    {
     "data": {
      "text/plain": [
       "({'Snakes on a Plane': 4.5,\n",
       "  'You, Me and Dupree': 1.0,\n",
       "  'Superman Returns': 4.0},\n",
       " {'Lady in the Water': 2.5,\n",
       "  'Snakes on a Plane': 3.0,\n",
       "  'Superman Returns': 3.5,\n",
       "  'The Night Listener': 4.0})"
      ]
     },
     "execution_count": 95,
     "metadata": {},
     "output_type": "execute_result"
    }
   ],
   "source": [
    "reviews['Toby'], reviews['Michael Phillips']"
   ]
  },
  {
   "cell_type": "markdown",
   "metadata": {
    "id": "lGS0n7pIOKXj"
   },
   "source": [
    "Сортировка самих пользователей на основе схожести:"
   ]
  },
  {
   "cell_type": "code",
   "execution_count": 25,
   "metadata": {
    "id": "0pZEFXq5OKXj"
   },
   "outputs": [],
   "source": [
    "def sort_users(reviews, person, n=5, similarity=sim_pearson):\n",
    "    scores = [(other, round(similarity(reviews, person, other),2)) for other in reviews if other != person]\n",
    "    scores = sorted(scores, key=lambda x: x[1], reverse=True)\n",
    "    return scores[:n]"
   ]
  },
  {
   "cell_type": "code",
   "execution_count": 12,
   "metadata": {
    "colab": {
     "base_uri": "https://localhost:8080/"
    },
    "id": "B1_rZLsGOKXn",
    "outputId": "473beaef-7df7-4da2-80c4-9604b2031efd"
   },
   "outputs": [
    {
     "data": {
      "text/plain": [
       "[('Lisa Rose', 0.99),\n",
       " ('Mick LaSalle', 0.92),\n",
       " ('Claudia Puig', 0.89),\n",
       " ('Jack Matthews', 0.66),\n",
       " ('Gene Seymour', 0.38)]"
      ]
     },
     "execution_count": 12,
     "metadata": {},
     "output_type": "execute_result"
    }
   ],
   "source": [
    "sort_users(reviews, 'Toby', n=5)"
   ]
  },
  {
   "cell_type": "markdown",
   "metadata": {
    "id": "6LXox7H2OKXq"
   },
   "source": [
    "Перейдем к самим рекомендациям по найденным похожим пользователям."
   ]
  },
  {
   "cell_type": "markdown",
   "metadata": {},
   "source": [
    "Кстати, сколько выбирать соседей?"
   ]
  },
  {
   "cell_type": "code",
   "execution_count": 13,
   "metadata": {
    "id": "exaN8ntQOKXr"
   },
   "outputs": [],
   "source": [
    "def get_recoms_by_users(prefs, person, similarity=sim_pearson):\n",
    "    totals = {}\n",
    "    sim_sums = {}\n",
    "    for other in prefs:\n",
    "        if other == person:\n",
    "            continue\n",
    "        sim = similarity(prefs, person, other)\n",
    "        if sim <= 0:\n",
    "            continue\n",
    "        for item in prefs[other]:\n",
    "            if item not in prefs[person] or prefs[person][item] == 0:\n",
    "                totals.setdefault(item, 0)\n",
    "                totals[item] += prefs[other][item]*sim\n",
    "                sim_sums.setdefault(item, 0)\n",
    "                sim_sums[item] += sim\n",
    "\n",
    "    rankings = [(item, round(total/sim_sums[item], 2)) for item, total in totals.items()]\n",
    "    rankings = sorted(rankings, key=lambda x: x[1], reverse=True)\n",
    "    \n",
    "    return rankings"
   ]
  },
  {
   "cell_type": "code",
   "execution_count": 14,
   "metadata": {
    "colab": {
     "base_uri": "https://localhost:8080/"
    },
    "id": "QHuUAqaeOKXw",
    "outputId": "46c2616c-5248-4053-bb99-241366ebf835"
   },
   "outputs": [
    {
     "data": {
      "text/plain": [
       "[('The Night Listener', 3.46),\n",
       " ('Lady in the Water', 2.78),\n",
       " ('Just My Luck', 2.42)]"
      ]
     },
     "execution_count": 14,
     "metadata": {},
     "output_type": "execute_result"
    }
   ],
   "source": [
    "get_recoms_by_users(reviews, 'Toby', sim_distance)"
   ]
  },
  {
   "cell_type": "markdown",
   "metadata": {
    "id": "wTMUibT4OKXy"
   },
   "source": [
    "4. **Item-based similarity**. "
   ]
  },
  {
   "cell_type": "markdown",
   "metadata": {},
   "source": [
    "Попробуем получить рекомендации на основе похожести самих фильмов. \n",
    "\n",
    "Поменяем местами ключи с значениями в исходном словаре. Пример:\n",
    "\n",
    "```\n",
    "{user: {film:score}}\n",
    "```\n",
    "```\n",
    "{'Lisa Rose': {'Lady in the Water': 2.5, 'Snakes on a Plane': 3.5},\n",
    "'Gene Seymour': {'Lady in the Water': 3.0, 'Snakes on a Plane': 3.5}}\n",
    "``` \n",
    "=>\n",
    "\n",
    "```\n",
    "{film: {user:score}}\n",
    "```\n",
    "```{'Lady in the Water':{'Lisa Rose':2.5,'Gene Seymour':3.0},\n",
    "'Snakes on a Plane':{'Lisa Rose':3.5,'Gene Seymour':3.5}}```"
   ]
  },
  {
   "cell_type": "code",
   "execution_count": 15,
   "metadata": {
    "id": "UbCRBk_yOKXz"
   },
   "outputs": [],
   "source": [
    "def transform_prefs(prefs):\n",
    "    result = {}\n",
    "    for person in prefs:\n",
    "        for item in prefs[person]:\n",
    "            result.setdefault(item, {})\n",
    "            result[item][person] = prefs[person][item]\n",
    "    return result"
   ]
  },
  {
   "cell_type": "code",
   "execution_count": 17,
   "metadata": {
    "colab": {
     "base_uri": "https://localhost:8080/"
    },
    "id": "TRwq5IKYOKX1",
    "outputId": "90832159-0e91-4951-b575-46e3b7860067"
   },
   "outputs": [
    {
     "data": {
      "text/plain": [
       "{'Lady in the Water': {'Lisa Rose': 2.5,\n",
       "  'Gene Seymour': 3.0,\n",
       "  'Michael Phillips': 2.5,\n",
       "  'Mick LaSalle': 3.0,\n",
       "  'Jack Matthews': 3.0},\n",
       " 'Snakes on a Plane': {'Lisa Rose': 3.5,\n",
       "  'Gene Seymour': 3.5,\n",
       "  'Michael Phillips': 3.0,\n",
       "  'Claudia Puig': 3.5,\n",
       "  'Mick LaSalle': 4.0,\n",
       "  'Jack Matthews': 4.0,\n",
       "  'Toby': 4.5},\n",
       " 'Just My Luck': {'Lisa Rose': 3.0,\n",
       "  'Gene Seymour': 1.5,\n",
       "  'Claudia Puig': 3.0,\n",
       "  'Mick LaSalle': 2.0},\n",
       " 'Superman Returns': {'Lisa Rose': 3.5,\n",
       "  'Gene Seymour': 5.0,\n",
       "  'Michael Phillips': 3.5,\n",
       "  'Claudia Puig': 4.0,\n",
       "  'Mick LaSalle': 3.0,\n",
       "  'Jack Matthews': 5.0,\n",
       "  'Toby': 4.0},\n",
       " 'You, Me and Dupree': {'Lisa Rose': 2.5,\n",
       "  'Gene Seymour': 3.5,\n",
       "  'Claudia Puig': 2.5,\n",
       "  'Mick LaSalle': 2.0,\n",
       "  'Jack Matthews': 3.5,\n",
       "  'Toby': 1.0},\n",
       " 'The Night Listener': {'Lisa Rose': 3.0,\n",
       "  'Gene Seymour': 3.0,\n",
       "  'Michael Phillips': 4.0,\n",
       "  'Claudia Puig': 4.5,\n",
       "  'Mick LaSalle': 3.0,\n",
       "  'Jack Matthews': 3.0}}"
      ]
     },
     "execution_count": 17,
     "metadata": {},
     "output_type": "execute_result"
    }
   ],
   "source": [
    "movies = transform_prefs(reviews)\n",
    "movies"
   ]
  },
  {
   "cell_type": "code",
   "execution_count": 20,
   "metadata": {
    "colab": {
     "base_uri": "https://localhost:8080/"
    },
    "id": "ydLOg1NWOKX4",
    "outputId": "90b47421-85d4-4af8-c875-91bbe2b9d60d"
   },
   "outputs": [
    {
     "data": {
      "text/plain": [
       "[('Michael Phillips', 4.0), ('Jack Matthews', 3.0)]"
      ]
     },
     "execution_count": 20,
     "metadata": {},
     "output_type": "execute_result"
    }
   ],
   "source": [
    "get_recoms_by_users(movies, 'Just My Luck')"
   ]
  },
  {
   "cell_type": "code",
   "execution_count": 23,
   "metadata": {
    "id": "j-BC_uIdOKX6"
   },
   "outputs": [],
   "source": [
    "def get_similar_items(reviews, n=10):\n",
    "    result = {}\n",
    "    itemreviews = transform_prefs(reviews)\n",
    "    counter = 0\n",
    "    for item in tqdm(itemreviews):\n",
    "        scores = sort_users(itemreviews, item, n=n, similarity=sim_distance)\n",
    "        result[item] = scores\n",
    "    return result"
   ]
  },
  {
   "cell_type": "markdown",
   "metadata": {
    "id": "QgkTZ5sFOKX-"
   },
   "source": [
    "У нас всего 6 фильмов, посчитаем скоры похожести для всех пар:"
   ]
  },
  {
   "cell_type": "code",
   "execution_count": 33,
   "metadata": {
    "colab": {
     "base_uri": "https://localhost:8080/"
    },
    "id": "ydtUWRaaOKX-",
    "outputId": "c17417b0-3c23-40f7-9f72-2dd2e70c63a5"
   },
   "outputs": [
    {
     "name": "stderr",
     "output_type": "stream",
     "text": [
      "100%|██████████| 6/6 [00:00<00:00, 5203.85it/s]\n"
     ]
    },
    {
     "data": {
      "text/plain": [
       "{'Lady in the Water': [('You, Me and Dupree', 0.45),\n",
       "  ('The Night Listener', 0.39),\n",
       "  ('Snakes on a Plane', 0.35),\n",
       "  ('Just My Luck', 0.35),\n",
       "  ('Superman Returns', 0.24)],\n",
       " 'Snakes on a Plane': [('Lady in the Water', 0.35),\n",
       "  ('The Night Listener', 0.32),\n",
       "  ('Superman Returns', 0.31),\n",
       "  ('Just My Luck', 0.26),\n",
       "  ('You, Me and Dupree', 0.19)],\n",
       " 'Just My Luck': [('Lady in the Water', 0.35),\n",
       "  ('You, Me and Dupree', 0.32),\n",
       "  ('The Night Listener', 0.3),\n",
       "  ('Snakes on a Plane', 0.26),\n",
       "  ('Superman Returns', 0.21)],\n",
       " 'Superman Returns': [('Snakes on a Plane', 0.31),\n",
       "  ('The Night Listener', 0.25),\n",
       "  ('Lady in the Water', 0.24),\n",
       "  ('Just My Luck', 0.21),\n",
       "  ('You, Me and Dupree', 0.19)],\n",
       " 'You, Me and Dupree': [('Lady in the Water', 0.45),\n",
       "  ('Just My Luck', 0.32),\n",
       "  ('The Night Listener', 0.29),\n",
       "  ('Snakes on a Plane', 0.19),\n",
       "  ('Superman Returns', 0.19)],\n",
       " 'The Night Listener': [('Lady in the Water', 0.39),\n",
       "  ('Snakes on a Plane', 0.32),\n",
       "  ('Just My Luck', 0.3),\n",
       "  ('You, Me and Dupree', 0.29),\n",
       "  ('Superman Returns', 0.25)]}"
      ]
     },
     "execution_count": 33,
     "metadata": {},
     "output_type": "execute_result"
    }
   ],
   "source": [
    "itemsim = get_similar_items(reviews, n=5)\n",
    "itemsim"
   ]
  },
  {
   "cell_type": "code",
   "execution_count": 31,
   "metadata": {
    "id": "SHWZDuIVOKYA"
   },
   "outputs": [],
   "source": [
    "def getRecommendedItems(reviews, item_match):\n",
    "    scores = {}\n",
    "    totalSim = {}\n",
    "    const = 1e-7\n",
    "    for item, rating in reviews.items():\n",
    "        for similarity, item in item_match[item]:\n",
    "            if item in reviews: \n",
    "                continue\n",
    "            scores.setdefault(item, 0)\n",
    "            scores[item] += similarity * rating\n",
    "            totalSim.setdefault(item, 0)\n",
    "            totalSim[item] += similarity\n",
    "            if totalSim[item] == 0: \n",
    "                totalSim[item] = const # чтобы избежать деления на ноль\n",
    "\n",
    "    rankings = [(score/totalSim[item], item) for item, score in scores.items()]\n",
    "    rankings = sorted(rankings, key=lambda x: x[1], reverse=True)\n",
    "    return rankings"
   ]
  },
  {
   "cell_type": "code",
   "execution_count": 36,
   "metadata": {},
   "outputs": [
    {
     "name": "stdout",
     "output_type": "stream",
     "text": [
      "[(3.182634730538922, 'The Night Listener'), (2.5983318700614575, 'Just My Luck'), (2.4730878186968837, 'Lady in the Water')]\n"
     ]
    }
   ],
   "source": [
    "getRecommendedItems(critics['Toby'], itemsim)"
   ]
  },
  {
   "cell_type": "markdown",
   "metadata": {},
   "source": [
    "### Плюсы и минусы user/item similarity подходов:\n",
    "\n",
    "Из недостатков:\n",
    "1) Для расчетов нужны оценки пользователей <br>\n",
    "2) Проблема холодного старта <br>\n",
    "3) Ненадеждные корреляции <br>\n",
    "4) Слабая обобщающая способность <br>\n",
    "\n",
    "Из достоинств:\n",
    "1) Простота подходов и имплементации<br>\n",
    "2) Возможность дать понятную интерпретацию результатам <br> \n",
    "3) Хороши по качеству как бейзлайны <br>\n",
    "4) Вычислительно незатратные <br>\n",
    "5) Можно быстро делать обновления"
   ]
  },
  {
   "cell_type": "markdown",
   "metadata": {
    "id": "xz49cxPgOKYE"
   },
   "source": [
    "## Рекомендация на данных MovieLens\n",
    "\n",
    "Источник: http://grouplens.org/datasets/movielens/"
   ]
  },
  {
   "cell_type": "code",
   "execution_count": 37,
   "metadata": {
    "id": "Mknv5_vwOKYE"
   },
   "outputs": [],
   "source": [
    "def loadMovieLens(path='.'):\n",
    "\n",
    "    movies = {}\n",
    "    for line in open(path + '/u.item', errors='ignore'):\n",
    "        idx, title = line.split('|')[:2]\n",
    "        movies[idx] = title\n",
    "\n",
    "    prefs = {}\n",
    "    for line in open(path + '/u.data', errors='ignore'):\n",
    "        user, movie_id, rating, ts = line.split('\\t')\n",
    "        prefs.setdefault(user,{})\n",
    "        prefs[user][movies[movie_id]] = float(rating)\n",
    "    return prefs"
   ]
  },
  {
   "cell_type": "code",
   "execution_count": null,
   "metadata": {
    "colab": {
     "base_uri": "https://localhost:8080/"
    },
    "id": "dI1mC6LNOKYG",
    "outputId": "dc030fc8-539e-4641-9806-544e6867c851",
    "scrolled": true
   },
   "outputs": [],
   "source": [
    "prefs = loadMovieLens()\n",
    "prefs['87'] # user_id"
   ]
  },
  {
   "cell_type": "code",
   "execution_count": 39,
   "metadata": {
    "colab": {
     "base_uri": "https://localhost:8080/"
    },
    "id": "O1TAF4RNOKYI",
    "outputId": "642669e5-178e-44e1-cac8-5c7964b13d12"
   },
   "outputs": [
    {
     "name": "stderr",
     "output_type": "stream",
     "text": [
      "100%|██████████| 1664/1664 [00:40<00:00, 40.76it/s]\n"
     ]
    }
   ],
   "source": [
    "itemsim = get_similar_items(prefs, n=50)"
   ]
  },
  {
   "cell_type": "code",
   "execution_count": 27,
   "metadata": {
    "colab": {
     "base_uri": "https://localhost:8080/"
    },
    "id": "2po-MZojOKYK",
    "outputId": "00a43c44-f58c-41f2-b1bb-68b539080364"
   },
   "outputs": [
    {
     "data": {
      "text/plain": [
       "[(5.0, \"What's Eating Gilbert Grape (1993)\"),\n",
       " (5.0, 'Vertigo (1958)'),\n",
       " (5.0, 'Usual Suspects, The (1995)'),\n",
       " (5.0, 'Toy Story (1995)'),\n",
       " (5.0, 'Titanic (1997)'),\n",
       " (5.0, 'Sword in the Stone, The (1963)'),\n",
       " (5.0, 'Stand by Me (1986)'),\n",
       " (5.0, 'Sling Blade (1996)'),\n",
       " (5.0, 'Silence of the Lambs, The (1991)'),\n",
       " (5.0, 'Shining, The (1980)'),\n",
       " (5.0, 'Shine (1996)'),\n",
       " (5.0, 'Sense and Sensibility (1995)'),\n",
       " (5.0, 'Scream (1996)'),\n",
       " (5.0, 'Rumble in the Bronx (1995)'),\n",
       " (5.0, 'Rock, The (1996)'),\n",
       " (5.0, 'Robin Hood: Prince of Thieves (1991)'),\n",
       " (5.0, 'Reservoir Dogs (1992)'),\n",
       " (5.0, 'Police Story 4: Project S (Chao ji ji hua) (1993)'),\n",
       " (5.0, 'House of the Spirits, The (1993)'),\n",
       " (5.0, 'Fresh (1994)'),\n",
       " (5.0, 'Day the Sun Turned Cold, The (Tianguo niezi) (1994)'),\n",
       " (5.0, 'Before the Rain (Pred dozhdot) (1994)'),\n",
       " (5.0, 'Assignment, The (1997)'),\n",
       " (5.0, '1-900 (1994)'),\n",
       " (4.888888888888889, \"Ed's Next Move (1996)\"),\n",
       " (4.833333333333333, 'Anna (1996)'),\n",
       " (4.8, 'Dark City (1998)'),\n",
       " (4.777777777777778,\n",
       "  'Flower of My Secret, The (Flor de mi secreto, La) (1995)'),\n",
       " (4.75, 'Broken English (1996)'),\n",
       " (4.75, ' kldum klaka (Cold Fever) (1994)')]"
      ]
     },
     "execution_count": 27,
     "metadata": {
      "tags": []
     },
     "output_type": "execute_result"
    }
   ],
   "source": [
    "get_recommended_prefs(['87'], itemsim)[:30]"
   ]
  },
  {
   "cell_type": "markdown",
   "metadata": {
    "id": "paTX1IQiOKYM"
   },
   "source": [
    "# Домашнее задание 1. Сравнение методов по сходству пользователей и по сходству объектов\n",
    "\n",
    "\n",
    "1. Требуется реализовать вычисление ошибки **MAE** и **RMSE** на тестовых данных [MovieLens](http://grouplens.org/datasets/movielens/).  \n",
    "В качестве данных обучения можно использовать файлы с расширением base, а тестирование качества провести на файле test: пары файлов u1.base и u1.test, ..., u5.base и u5.test. Каждая пара -- это разбиение данных на обучающие (80%) и тестовые (20%) данные для всех пользователей $u$.\n",
    "2. Для каждого метода (user-based и item-based) постройте графики зависимости MAE и RMSE от числа соседей (диапазон от 1 до 100 с разумным шагом).\n",
    "3. Сравните подходы на основе полученных результатов по аналогии с пунктами 1 и 2. \n",
    "4. Как изменяется величина MAE (RMSE) от числа выдаваемых рекомендаций (top-n): $n \\in \\{1,3,5,10,15,20,30,40,50,100\\}$? \n",
    "5. Как Вы считаете, какие фильмы чаще рекомендуются - популярные с высокими оценками или редкие (те, которые редко оцениваются) с высокими оценками? Почему это происходит?\n",
    "6. Что делать, если соседей (то есть, похожих на целевого пользователя или конкретный товар) мало? Нужно (и можно) ли как-то учитывать достоверность таких рекомендаций? \n",
    "7. Насколько различны списки из top-n рекомендаций? Попробуйте улучшить результаты подбором $\\beta$ для минимизации MAE (RMSE) в гибридных рекомендациях в зависимости от числа соседей:\n",
    "$$\\beta\\cdot r^{user-based}_{ui} + (1-\\beta)\\cdot r^{item-based}_{ui}, \\mbox{ где } 0 \\leq \\beta \\leq 1.$$ \n",
    "\n"
   ]
  },
  {
   "cell_type": "code",
   "execution_count": null,
   "metadata": {},
   "outputs": [],
   "source": []
  }
 ],
 "metadata": {
  "colab": {
   "collapsed_sections": [],
   "name": "home_assignment_1.ipynb",
   "provenance": [],
   "toc_visible": true
  },
  "kernelspec": {
   "display_name": "Python 3",
   "language": "python",
   "name": "python3"
  },
  "language_info": {
   "codemirror_mode": {
    "name": "ipython",
    "version": 3
   },
   "file_extension": ".py",
   "mimetype": "text/x-python",
   "name": "python",
   "nbconvert_exporter": "python",
   "pygments_lexer": "ipython3",
   "version": "3.8.5"
  },
  "name": "lesson11_recsys.ipynb"
 },
 "nbformat": 4,
 "nbformat_minor": 1
}
