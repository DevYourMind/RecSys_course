{
 "cells": [
  {
   "cell_type": "markdown",
   "id": "6d04d962",
   "metadata": {},
   "source": [
    "# <center> Memory-based методы, MF, CF </center>"
   ]
  },
  {
   "cell_type": "markdown",
   "id": "87b3b03b",
   "metadata": {},
   "source": [
    "План занятия\n",
    "\n",
    "- Что такое user/item-based similarity подходы, колаборативная фильтрация, FM, MF\n",
    "- Поговорим про ALS и обучим его\n",
    "- Вариации в виде (HALS, Neural CF)"
   ]
  },
  {
   "cell_type": "markdown",
   "id": "c6e96f5f",
   "metadata": {},
   "source": [
    "### Еще раз очень простыми словами про Item-based и User-based similarity"
   ]
  },
  {
   "cell_type": "code",
   "execution_count": 1,
   "id": "4bb04657",
   "metadata": {},
   "outputs": [],
   "source": [
    "import warnings\n",
    "warnings.filterwarnings('ignore')\n",
    "\n",
    "import numpy as np\n",
    "import matplotlib.pyplot as plt\n",
    "import pandas as pd\n",
    "import pickle\n",
    "import seaborn as sns\n",
    "from math import sqrt\n",
    "from scipy.sparse import csr_matrix\n",
    "from sklearn.metrics import r2_score\n",
    "from sklearn.model_selection import train_test_split\n",
    "from sklearn.preprocessing import LabelEncoder\n",
    "from typing import List, Dict\n",
    "from tqdm import tqdm\n",
    "\n",
    "sns.set_style('whitegrid')"
   ]
  },
  {
   "cell_type": "markdown",
   "id": "63fcb161",
   "metadata": {},
   "source": [
    "**1. Сделаем первый бейзлайн Top Popular**\n",
    "\n",
    "Популярность можно понять по-разному, например, как наибольшее число просмотров по всем пользователям. \n",
    "Еще не хотим показывать пользователю уже просмотренные им ранее фильмы. "
   ]
  },
  {
   "cell_type": "code",
   "execution_count": 2,
   "id": "6008b813",
   "metadata": {},
   "outputs": [],
   "source": [
    "with open('/data/critics_reviews', 'rb') as f:\n",
    "    reviews = pickle.load(f)"
   ]
  },
  {
   "cell_type": "code",
   "execution_count": 3,
   "id": "550dbdaa",
   "metadata": {},
   "outputs": [
    {
     "data": {
      "text/plain": [
       "{'Snakes on a Plane': 7,\n",
       " 'Superman Returns': 7,\n",
       " 'You, Me and Dupree': 6,\n",
       " 'The Night Listener': 6,\n",
       " 'Lady in the Water': 5,\n",
       " 'Just My Luck': 4}"
      ]
     },
     "execution_count": 3,
     "metadata": {},
     "output_type": "execute_result"
    }
   ],
   "source": [
    "def get_pop_movies(reviews: Dict) -> Dict:\n",
    "    movies_rating = {}\n",
    "    for user, films in reviews.items():\n",
    "        for film, _ in films.items():\n",
    "            movies_rating.setdefault(film, 0)\n",
    "            movies_rating[film] += 1\n",
    "    movies_rating = dict(sorted(movies_rating.items(), key=lambda x: x[1], reverse=True))\n",
    "    return movies_rating\n",
    "\n",
    "\n",
    "def top_pop_recommender(reviews: Dict, user: str) -> Dict:\n",
    "    recoms = get_pop_movies(reviews)\n",
    "    recoms = {k: v for k, v in recoms.items() if k not in reviews[user]}\n",
    "    return recoms\n",
    "\n",
    "get_pop_movies(reviews)"
   ]
  },
  {
   "cell_type": "markdown",
   "id": "30c2bafb",
   "metadata": {},
   "source": [
    "Подуймайте, если у нас много фильмов, какого параметра не хватает для выдачи рекомендаций.  "
   ]
  },
  {
   "cell_type": "code",
   "execution_count": 4,
   "id": "458d133a",
   "metadata": {},
   "outputs": [
    {
     "data": {
      "text/plain": [
       "{'The Night Listener': 6, 'Lady in the Water': 5, 'Just My Luck': 4}"
      ]
     },
     "execution_count": 4,
     "metadata": {},
     "output_type": "execute_result"
    }
   ],
   "source": [
    "top_pop_recommender(reviews, 'Toby')"
   ]
  },
  {
   "cell_type": "markdown",
   "id": "6abbb6eb",
   "metadata": {},
   "source": [
    "**2. Top Popular v.2.0.**\n",
    "\n",
    "Можно посчитать топ фильмов по среднему рейтингу из отзывов пользователей."
   ]
  },
  {
   "cell_type": "code",
   "execution_count": 5,
   "id": "6b011434",
   "metadata": {},
   "outputs": [
    {
     "data": {
      "text/plain": [
       "{'The Night Listener': 3.42, 'Lady in the Water': 2.8, 'Just My Luck': 2.38}"
      ]
     },
     "execution_count": 5,
     "metadata": {},
     "output_type": "execute_result"
    }
   ],
   "source": [
    "def get_movies_avg_scores(reviews: Dict) -> Dict:\n",
    "    movies_rating = {}\n",
    "    for user, films in reviews.items():\n",
    "        for film, score in films.items():\n",
    "            movies_rating.setdefault(film, [])\n",
    "            movies_rating[film].append(score)\n",
    "\n",
    "    movies_rating = {k: np.mean(v) for k, v in movies_rating.items()}\n",
    "    movies_rating = dict(sorted(movies_rating.items(), key=lambda x: x[1], reverse=True))\n",
    "    return movies_rating\n",
    "\n",
    "\n",
    "def top_avg_scores_recommender(reviews: Dict, user: str) -> Dict:\n",
    "    recoms = get_movies_avg_scores(reviews)\n",
    "    new_movies = set(recoms.keys()).difference(reviews[user])\n",
    "    recoms = {k: round(v, 2) for k, v in recoms.items() if k in new_movies}\n",
    "    return recoms\n",
    "\n",
    "\n",
    "top_avg_scores_recommender(reviews, 'Toby')"
   ]
  },
  {
   "cell_type": "markdown",
   "id": "9bf6ca13",
   "metadata": {},
   "source": [
    "* Для некоторых доменов у нас будут допустимы повторы по объектам (например, товары в супермаркете). К тому же, Top popular - это неперсональные рекомендации. \n",
    "\n",
    "Из каких шагов будет состоять имплементация Top Personal с повторами в рекомендациях? "
   ]
  },
  {
   "cell_type": "markdown",
   "id": "f2fed3f6",
   "metadata": {},
   "source": [
    "\n",
    "**3. User-based similarity** \n",
    "\n",
    "Дополнительно, простой, но надежный бейзлайн можно посчитать в виде рекомендаций на основе сходства пользователей или объектов (user/item similarity). \n",
    "\n",
    "\n",
    "То есть, шаги следующие:\n",
    "\n",
    "1. Нормализация оценок.\n",
    "2. Выбор метрики схожести, ее расчет. \n",
    "3. Выбор k соседей для формирования множества из их айтемов.\n",
    "4. Сортировка по убыванию оценок и возвращение top-n рекомендаций пользователю.\n",
    "\n",
    "\n",
    "Какие простые и распространенные метрики схожести (расстояния) можете вспомнить?"
   ]
  },
  {
   "cell_type": "code",
   "execution_count": 6,
   "id": "4d648b00",
   "metadata": {},
   "outputs": [],
   "source": [
    "def sim_distance(reviews: Dict, user1: str, user2: str) -> float:\n",
    "    sum_of_squares = sum([(reviews[user1][item] - reviews[user2][item])**2\n",
    "                         for item in reviews[user1] if item in reviews[user2]])\n",
    "    return 1/(1 + np.sqrt(sum_of_squares))"
   ]
  },
  {
   "cell_type": "markdown",
   "id": "7e0332ce",
   "metadata": {},
   "source": [
    "<img src='https://wikimedia.org/api/rest_v1/media/math/render/svg/2b9c2079a3ffc1aacd36201ea0a3fb2460dc226f'>\n",
    "<img src='https://wikimedia.org/api/rest_v1/media/math/render/svg/b87fab4bd95646a6aa894efe96e894761c94498f'>\n",
    "\n",
    "где $n$ - размер выборки, <br>\n",
    "$x_{i},y_{i}$ - оценки первого и второго пользователя <br>\n",
    "$\\bar x = \\frac{1}{n} \\sum^n_{i=1}x_i$"
   ]
  },
  {
   "cell_type": "code",
   "execution_count": 7,
   "id": "4864f6c3",
   "metadata": {},
   "outputs": [],
   "source": [
    "def sim_pearson(reviews: Dict, user1: str, user2: str) -> float:\n",
    "    stats = {}\n",
    "    similar = list(set(reviews[user1].keys()) & set(reviews[user2].keys()))\n",
    "    for user in [user1, user2]:\n",
    "        stats.setdefault(user, {'ranks': 0, 'sum_ranks': 0, 'sum_ranks_sq': 0})\n",
    "        stats[user]['ranks'] = [reviews[user][i] for i in similar]\n",
    "        stats[user]['sum_ranks'] = np.sum(stats[user]['ranks'])\n",
    "        stats[user]['sum_ranks_sq'] = np.sum([x ** 2 for x in stats[user]['ranks']])\n",
    "\n",
    "    n = len(similar)\n",
    "    sum_product = np.dot(stats[user1]['ranks'], stats[user2]['ranks'])\n",
    "    numerator = n * sum_product - stats[user1]['sum_ranks'] * stats[user2]['sum_ranks']\n",
    "    denominator = np.sqrt((n * stats[user1]['sum_ranks_sq'] - stats[user1]['sum_ranks'] ** 2) *\n",
    "                          (n * stats[user2]['sum_ranks_sq'] - stats[user2]['sum_ranks'] ** 2))\n",
    "    if denominator == 0:\n",
    "        return 0\n",
    "    r_coeff = numerator / denominator\n",
    "    return r_coeff"
   ]
  },
  {
   "cell_type": "markdown",
   "id": "58a9504e",
   "metadata": {},
   "source": [
    "Выведем попарные метрики схожести пользователей:"
   ]
  },
  {
   "cell_type": "code",
   "execution_count": 8,
   "id": "5038bf53",
   "metadata": {},
   "outputs": [
    {
     "name": "stdout",
     "output_type": "stream",
     "text": [
      "Lisa Rose and Gene Seymour correlation similarity:  0.4\n",
      "Lisa Rose and Michael Phillips correlation similarity:  0.4\n",
      "Lisa Rose and Claudia Puig correlation similarity:  0.57\n",
      "Lisa Rose and Mick LaSalle correlation similarity:  0.59\n",
      "Lisa Rose and Jack Matthews correlation similarity:  0.75\n",
      "Lisa Rose and Toby correlation similarity:  0.99\n",
      "Gene Seymour and Michael Phillips correlation similarity:  0.2\n",
      "Gene Seymour and Claudia Puig correlation similarity:  0.31\n",
      "Gene Seymour and Mick LaSalle correlation similarity:  0.41\n",
      "Gene Seymour and Jack Matthews correlation similarity:  0.96\n",
      "Gene Seymour and Toby correlation similarity:  0.38\n",
      "Michael Phillips and Claudia Puig correlation similarity:  1.0\n",
      "Michael Phillips and Mick LaSalle correlation similarity:  -0.26\n",
      "Michael Phillips and Jack Matthews correlation similarity:  0.13\n",
      "Michael Phillips and Toby correlation similarity:  -1.0\n",
      "Claudia Puig and Mick LaSalle correlation similarity:  0.57\n",
      "Claudia Puig and Jack Matthews correlation similarity:  0.03\n",
      "Claudia Puig and Toby correlation similarity:  0.89\n",
      "Mick LaSalle and Jack Matthews correlation similarity:  0.21\n",
      "Mick LaSalle and Toby correlation similarity:  0.92\n",
      "Jack Matthews and Toby correlation similarity:  0.66\n"
     ]
    }
   ],
   "source": [
    "compared = set()\n",
    "for first in reviews:\n",
    "    for second in reviews:\n",
    "        compared.add((first, second))\n",
    "        if first != second and (second, first) not in compared:\n",
    "            print(f'{first} and {second} correlation similarity: ', round(sim_pearson(reviews, first, second), 2))"
   ]
  },
  {
   "cell_type": "markdown",
   "id": "579851c5",
   "metadata": {},
   "source": [
    "Давайте посмотрим на коэффициенты корреляции. \n",
    "У нас нашлось несколько примеров, у которых коэффициент корреляции равен 1. И есть даже сильная обратная линейная взаимосвязь: -1.\n",
    "\n",
    "Что можно сказать про отрицательные корреляции? Какие есть недостатки при использовании этой метрики?"
   ]
  },
  {
   "cell_type": "code",
   "execution_count": 9,
   "id": "e72dc754",
   "metadata": {},
   "outputs": [
    {
     "data": {
      "text/plain": [
       "({'Snakes on a Plane': 4.5,\n",
       "  'You, Me and Dupree': 1.0,\n",
       "  'Superman Returns': 4.0},\n",
       " {'Lady in the Water': 2.5,\n",
       "  'Snakes on a Plane': 3.0,\n",
       "  'Superman Returns': 3.5,\n",
       "  'The Night Listener': 4.0})"
      ]
     },
     "execution_count": 9,
     "metadata": {},
     "output_type": "execute_result"
    }
   ],
   "source": [
    "# case 1\n",
    "reviews['Toby'], reviews['Michael Phillips']"
   ]
  },
  {
   "cell_type": "markdown",
   "id": "a6f5f6c9",
   "metadata": {},
   "source": [
    "Сортировка самих пользователей на основе схожести:"
   ]
  },
  {
   "cell_type": "code",
   "execution_count": 12,
   "id": "2c407c74",
   "metadata": {},
   "outputs": [
    {
     "data": {
      "text/plain": [
       "[('Lisa Rose', 0.99),\n",
       " ('Mick LaSalle', 0.92),\n",
       " ('Claudia Puig', 0.89),\n",
       " ('Jack Matthews', 0.66),\n",
       " ('Gene Seymour', 0.38),\n",
       " ('Michael Phillips', -1.0)]"
      ]
     },
     "execution_count": 12,
     "metadata": {},
     "output_type": "execute_result"
    }
   ],
   "source": [
    "# case 2\n",
    "def sort_users(reviews: Dict, user: str, n=5, similarity=sim_pearson) -> List:\n",
    "    scores = [(other, round(similarity(reviews, user, other),2)) for other in reviews if other != user]\n",
    "    scores = sorted(scores, key=lambda x: x[1], reverse=True)\n",
    "    return scores[:n]\n",
    "\n",
    "sort_users(reviews, 'Toby', n=6)"
   ]
  },
  {
   "cell_type": "markdown",
   "id": "5bdf1dc1",
   "metadata": {},
   "source": [
    "Перейдем к самим рекомендациям по найденным похожим пользователям.\n",
    "\n",
    "Кстати, сколько выбирать соседей?"
   ]
  },
  {
   "cell_type": "code",
   "execution_count": 13,
   "id": "13e035df",
   "metadata": {},
   "outputs": [],
   "source": [
    "def get_recoms_by_users(reviews: Dict, user: str, similarity=sim_pearson) -> List:\n",
    "    totals = {}\n",
    "    sim_sums = {}\n",
    "    for other in reviews:\n",
    "        if other == user:\n",
    "            continue\n",
    "        sim = similarity(reviews, user, other)\n",
    "        if sim <= 0:\n",
    "            continue\n",
    "        for item in reviews[other]:\n",
    "            if item not in reviews[user] or reviews[user][item] == 0:\n",
    "                totals.setdefault(item, 0)\n",
    "                totals[item] += reviews[other][item]*sim\n",
    "                sim_sums.setdefault(item, 0)\n",
    "                sim_sums[item] += sim\n",
    "\n",
    "    rankings = [(item, round(total/sim_sums[item], 2)) for item, total in totals.items()]\n",
    "    rankings = sorted(rankings, key=lambda x: x[1], reverse=True)\n",
    "    \n",
    "    return rankings"
   ]
  },
  {
   "cell_type": "code",
   "execution_count": 14,
   "id": "53966611",
   "metadata": {},
   "outputs": [
    {
     "data": {
      "text/plain": [
       "[('The Night Listener', 3.46),\n",
       " ('Lady in the Water', 2.78),\n",
       " ('Just My Luck', 2.42)]"
      ]
     },
     "execution_count": 14,
     "metadata": {},
     "output_type": "execute_result"
    }
   ],
   "source": [
    "get_recoms_by_users(reviews, 'Toby', sim_distance)"
   ]
  },
  {
   "cell_type": "markdown",
   "id": "c33beb50",
   "metadata": {},
   "source": [
    "**Item-based similarity**\n",
    "\n",
    "Можно посчитать все то же самое, но получить рекомендации пользователя на основе похожести просмотренных им ранее фильмов."
   ]
  },
  {
   "cell_type": "code",
   "execution_count": null,
   "id": "d8dbe030",
   "metadata": {},
   "outputs": [],
   "source": [
    "def get_recoms_by_items(movies, person_movies, similarity=itemsim):\n",
    "    \n",
    "    # YOUR CODE HERE\n",
    "    \n",
    "    return rankings"
   ]
  },
  {
   "cell_type": "markdown",
   "id": "0e24aeb5",
   "metadata": {},
   "source": [
    "| Метод | Достоинства  |  Недостатки | \n",
    "|---|---|---|\n",
    "| User/item-based similarity | Простота подходов и имплементации|  Расчеты желательны на оценках пользователей|  \n",
    "|\n",
    "|| Общая интерпретируемость модели (на основе предпочтений похожих пользователей) | Страдает от проблемы холодного старта |  \n",
    "|\n",
    "|| Хороши по качеству как бейзлайны | Ненадеждные метрики схожести (например, корреляции) | \n",
    "|\n",
    "|| Вычислительно незатратные | User/item никогда не попадет в рекомендации, если с ним нет интеракций|  \n",
    "|\n",
    "|| ML model free | Popularity bias, поэтому нужно взвешивание, нормализация| \n",
    "|\n",
    "|| | Не показываю SOTA результаты качества| "
   ]
  },
  {
   "cell_type": "markdown",
   "id": "37a06ab4",
   "metadata": {},
   "source": [
    "### Разница между CF, FM, MF подходами"
   ]
  },
  {
   "cell_type": "markdown",
   "id": "b8d17ee7",
   "metadata": {},
   "source": [
    "### Матричная факторизация\n",
    "\n",
    "Matrix Factorization (MF) - это матричное разложение из линейной алгебры, которая по сути своей является простой embedding моделью. Будем раскладывать исходную матрицу $A$ на несколько матриц (обычно их 2 или 3), которые будут ее аппроксимировать при перемножении $ PQ^T$. Таким образом:\n",
    "\n",
    "* Матрица интеракций $A \\in R^{m \\times n} $ <br>\n",
    "* Матрица эмбеддингов пользователей $P \\in R^{m \\times dim}$, где ряд $i$ - это эмбеддинг пользователя $i$. <br>\n",
    "* Матрица эмбеддингов айтемов $Q \\in R^{n \\times dim}$, где ряд $j$ - это эмбеддинг айтема $j$.\n",
    "\n",
    "Пара $(i, j)$ в $PQ^T$ - это просто скалярное произведение $<P_i, Q_j>$ эмбедднигов пользователя i и айтема j, которое должно быть близко к $A_{ij}$\n",
    "\n",
    "<ins>Вопросы и замечания:</ins> \n",
    "\n",
    "*  1. В чем может быть практическая польза хранить не исходную матрицу, а две/три новые матрицы? \n",
    "\n",
    "*  2. Что важнее - сама оценка скалярного произведения или порядок между оценками?\n",
    "\n",
    "* 3. Подойдет ли нам наиболее точная аппроксимация исходной матрицы для рекомендательных систем (т.е. полностью точно воспроизвели все значения в материце интеракций)? Почему? "
   ]
  },
  {
   "cell_type": "markdown",
   "id": "f921aa94",
   "metadata": {},
   "source": [
    "**Определение целевой функции для MF**\n",
    "\n",
    "Одной из интуитивно понятных целевых функций для MF является квадрат расстояния, то есть минимизируем сумму квадратов ошибок по всем парам наблюдаемых записей: \n",
    "\n",
    "$$min_{P \\in R^{m\\times d}, Q \\in R^{n\\times d}} \\sum_{(i,j) \\in obs} (A_{ij} - <P_i, Q_j>)^2$$\n",
    "\n",
    "Можно доопределить задачу, и рассматривать отсутствующие интеракции как нули и просуммировать все значения в матрице. Это соответствует минимизации квадрата расстояния Фробениуса между матрицей интеракций A и его аппроксимацией $PQ^T$ :\n",
    "\n",
    "$$min_{P \\in R^{m\\times d}, Q \\in R^{n\\times d}} ||A - P\\cdot Q^T||^2_F$$"
   ]
  },
  {
   "cell_type": "markdown",
   "id": "41e51aae",
   "metadata": {},
   "source": [
    "Вы можете решать эту квадратичную задачу с помощью сингулярного разложения матрицы (SVD). Однако SVD тоже не лучшее решение. Почему?\n",
    "\n",
    "Для борьбы с недостатками подходов выше, есть подход **Weighted Matrix Factorization**, который раскладывает целевую функцию на две суммы:\n",
    "\n",
    "1) сумма по всем имеющимся интеракциям\n",
    "\n",
    "2) сумма по отсутствующим интеракциям (которые мы обозначали 0)\n",
    "\n",
    "\n",
    "$$min_{P \\in R^{m\\times d}, Q \\in R^{n\\times d}} \\sum_{(i,j) \\in obs} (A_{ij} - <P_i, Q_j>)^2 + w_{0} \\cdot \\sum_{(i,j) \\notin obs} (<P_{i}, Q_{j}>)^2$$\n",
    " \n",
    "\n",
    "На практике, вам также необходимо взвешивать наблюдаемые пары.Вы можете скорректировать эффект популярности, взвесив обучающие примеры, чтобы учесть их частоту в датасете. Можно заменить целевую функцию на:\n",
    "\n",
    "$$min_{P \\in R^{m\\times d}, Q \\in R^{n\\times d}} \\sum_{(i,j) \\in obs} w_{i,j} \\cdot (A_{ij} - <P_i, Q_j>)^2 + w_{0} \\cdot \\sum_{(i,j) \\notin obs} (<P_{i}, Q_{j}>)^2$$\n",
    "\n",
    "\n",
    "**Минимизация целевой функции**:\n",
    "\n",
    "* SGD (stochastic gradient descent)\n",
    "* MCMC (Markov chain Monte Carlo)\n",
    "* Weighted Alternating Least Squares (WALS)\n",
    "\n",
    "Лосс квадратичный для обеих матриц $P$ и $Q$.  \n",
    "WALS случайным образом инициализирует эмбеддинги и потом последовательно обновляет веса:\n",
    "\n",
    "1) Фиксируем $P$, делаем итерацию оптимизации для решения $Q$. \n",
    "\n",
    "2) Фиксируем $Q$, делаем итерацию оптимизации для решения $P$. \n",
    "\n",
    "<img src='https://developers.google.com/machine-learning/recommendation/images/UnobservedEntries.svg' width=500>\n",
    "\n",
    "| Метод оптимизации  | Достоинства  |  Недостатки | \n",
    "|---|---|---|\n",
    "|  SGD |  Гибкий в использовании, можно брать другие лоссы | Медленнее, небыстро сходится  |  \n",
    "|  |  Можно распараллелить вычисления | Сложнее работать с отрицательными примерами, нужен negative sampling  |  \n",
    "|  WALS |  Быстрее сходится, чем SGD | Применим только к квадратичным лоссам  | \n",
    "|  |  Легче обрабатывать отсутсвующие интеракции |  |\n",
    "|   |  Можно распараллелить вычисления|  | "
   ]
  },
  {
   "cell_type": "markdown",
   "id": "dd501907",
   "metadata": {},
   "source": [
    "**SVD**\n",
    "\n",
    "<img src='https://www.dataminingapps.com/wp-content/uploads/2020/02/svd2.png'>\n",
    "\n",
    "Для итеративного обучения SVD, помимо скалярного произведения, можно включить смещения по пользователю $b_u$ и объекту $b_i$. Предполагается, что смещения пользователей отражают тенденцию некоторых пользователей оценивать товары выше (или ниже) среднего. То же самое касается товаров: некоторые товары обычно оцениваются выше, чем некоторые другие. Модель SVD тогда выглядит следующим образом:\n",
    "\n",
    "$$\\hat r_{u,i} = \\mu + b_u + b_i + q_{i}^{T}p_{u},$$\n",
    "\n",
    "где $\\mu$ - глобальное среднее по всем оценкам в данных. Тогда задача оптимизации сводится к:\n",
    "\n",
    "$$ \\sum(r_{u,i} - \\hat r_{u,i}) ^ 2 +     \\lambda(b_i^2 + b_u^2 + ||q_i||^2 + ||p_u||^2),$$\n",
    "\n",
    "где $\\lambda$ - параметр регуляризации.\n",
    "\n",
    "Оптимизация через стохастический градиентный спуск:\n",
    "\n",
    "$$b_u \\leftarrow b_u + \\gamma (e_{ui} - \\lambda b_u)$$\n",
    "$$b_i \\leftarrow b_i + \\gamma (e_{ui} - \\lambda b_i)$$  \n",
    "$$p_u \\leftarrow p_u + \\gamma (e_{ui} \\cdot q_i - \\lambda p_u)$$\n",
    "$$q_i \\leftarrow q_i + \\gamma (e_{ui} \\cdot p_u - \\lambda q_i),$$\n",
    "\n",
    "где $\\gamma$ - это learning rate, <br>\n",
    "$e_{ui} =  r_{ui} - \\hat r_{u,i} = r_{u,i} - (\\mu + b_u + b_i + q_{i}^{T}p_{u})$ ошибка алгоритма на паре $(u, i)$."
   ]
  },
  {
   "cell_type": "markdown",
   "id": "51189a64",
   "metadata": {},
   "source": [
    "Сколько компонент из SVD брать для получения рекомендаций? \n",
    "\n",
    "Мы не хотим получить точно такую же матрицу как и была у нас в самом начале (overfitted), но нам и не подойдет вариант с новой матрицей, где значения сильно разнятся с исходными (underfitted).\n",
    "\n",
    "Как бы вы проинтерпретировали и использовали график ниже, если бы мы решали задачу на explicit данных и посчитали несколько метрик для оценки качества?\n",
    "\n",
    "<img src='https://raw.githubusercontent.com/anamarina/RecSys_course/main/week2/images/svd2.png' height=700 width=500>"
   ]
  },
  {
   "cell_type": "markdown",
   "id": "d2b6c360",
   "metadata": {},
   "source": [
    "### Factorization Machines\n",
    "\n",
    "Факторизационные машины учитывают взаимодействия признаков вплоть до некоторой степени, которая чаще всего равна двум. В этом случае модель будет выглядеть следующим образом:\n",
    "\n",
    "$$a(x) = w_0 + \\sum_{j=1}^d w_j x_j + \\frac{1}{2} \\sum_{j=1}^d\\sum_{k=1, \\\\ k \\ne j}^d \\langle v_j, v_k \\rangle x_j x_k,$$\n",
    "\n",
    "\n",
    "где $X \\in \\mathbb{R}^{\\ell \\times d}$ - обучающая выборка, $\\ell$ – кол-во объектов, а $d$ – кол-во признаков.  \n",
    "$w_0, w_1, \\dots, w_d \\in \\mathbb{R}$, $v_1, \\dots, v_d \\in \\mathbb{R}^r$ - признаковое описание объекта. \n",
    "\n",
    "Матрица всех весов при слагаемых второго порядка $W$ представима как $W = VV^T,$ где $V = \\left[ v_1, \\dots, v_d \\right]^T$ (т.е. векторы $v_{j}$ записаны в строках матрицы $V$).\n",
    "\n",
    "Факторизационные машины полезны в случаяз, когда количество признаков очень велико  $d >> \\ell$, что ясно из разложения $W = VV^T$. \n",
    "Обучение полной матрицы весов попарных взаимодействий быстро приведет к переобучению, поэтому параметр $r$ обычно выбирают сильно меньше $d$."
   ]
  },
  {
   "cell_type": "markdown",
   "id": "1166f492",
   "metadata": {},
   "source": [
    "### Коллаборативная фильтрация\n",
    "\n",
    "CF одновременно использует сходство между users и items для рекомендаций. Тоже закладывается логика, что мы будем рекомендовать item пользователю A на основе интересов похожих на него пользователей. Но отличие в том, что в результате алгоритма мы получает эмбеддинги по пользователям и items только исходя из данных матрицы интеракций, без необходимости дополнительно генерировать признаки, когда мы ими не располагаем. \n",
    "\n",
    "Будем исходит из гипотезы, что чем более похожи/релевантны пара $(user_i, item_j)$, тем больше должно быть значение их скалярного произведения (либо выбранной метрики схожести) между их эмбеддингами."
   ]
  },
  {
   "cell_type": "markdown",
   "id": "1847297e",
   "metadata": {},
   "source": [
    "**ALS**\n",
    "\n",
    "Итак, поставлена задача построения модели со скрытыми переменными (latent factor model) для коллаборативной фильтрации:\n",
    "\n",
    "$$\\sum_{u,i} (r_{ui} - \\langle p_u, q_i \\rangle)^2 \\to \\min_{P,Q}.\n",
    "\\label{LFM}$$\n",
    "\n",
    "Суммирование ведется по всем парам $(u, i),$ для которых известен рейтинг $r_{ui}$ (и только по ним), а $p_u, q_i$ – латентные представления пользователя~$u$ и товара $i$, соответственно, матрицы $P, Q$ получаются путем записывания по столбцам векторов $p_u, q_i$ соответственно.\n",
    "\n",
    "Подход ALS (Alternating Least Squares) решает задачу, попеременно фиксируя матрицы $P$ и $Q$, — оказывается, что, зафиксировав одну из матриц, можно выписать аналитическое решение задачи для другой.\n",
    "\n",
    "$$\\nabla_{p_u} \\bigg[ \\sum_{u,i} (r_{ui} - \\langle p_u, q_i \\rangle)^2 \\bigg] = \\sum_{i} 2(r_{ui} - \\langle p_u, q_i \\rangle)q_i = 0$$\n",
    "\n",
    "Воспользовавшись тем, что $a^Tbc = cb^Ta$, получим\n",
    "$$\\sum_{i} r_{ui}q_i - \\sum_i q_i q_i^T p_u = 0.$$\n",
    "\n",
    "Тогда окончательно каждый столбец матрицы $P$ можно найти по формуле\n",
    "$$p_u = \\bigg( \\sum_i q_i q_i^T\\bigg)^{-1}\\sum_ir_{ui}q_i \\;\\; \\forall u,$$\n",
    "\n",
    "аналогично для столбцов матрицы $Q$\n",
    "$$q_i = \\bigg( \\sum_u p_u p_u^T\\bigg)^{-1}\\sum_ur_{ui}p_u \\;\\; \\forall i.$$\n",
    "\n",
    "Таким образом мы можем решать оптимизационную задачу, поочередно фиксируя одну из матриц $P$ или $Q$ и проводя оптимизацию по второй.\n",
    "\n",
    "**Оригинальная статья c постановкой задачи для ALS на explicit feedback:**\n",
    "\n",
    "* Bell, R.M. and Koren, Y., 2007, October. Scalable collaborative filtering with jointly derived neighborhood interpolation weights. In Seventh IEEE international conference on data mining (ICDM 2007) (pp. 43-52). IEEE.\n",
    "\n",
    "**Оригинальная статья с ALS для implicit данных, которая стала более известной:**\n",
    "\n",
    "* Hu, Y., Koren, Y. and Volinsky, C., 2008, December. Collaborative filtering for implicit feedback datasets. In 2008 Eighth IEEE international conference on data mining (pp. 263-272). Ieee.\n"
   ]
  },
  {
   "cell_type": "markdown",
   "id": "dfbb615e",
   "metadata": {},
   "source": [
    "\n",
    "| Метод | Достоинства  |  Недостатки | \n",
    "|---|---|---|\n",
    "| Collaborative Filtering | Для предсказаний достаточно одних интеракций |  Страдает от проблемы холодного старта|  \n",
    "|\n",
    "|| Serendipity (может выдать для пользователя что-то неожиданно релевантное, создавая интерес к новому) | Низкое качество рекомендаций при маленьком датасете или слишком разреженной матрице |  \n",
    "|\n",
    "|| Общая интерпретируемость модели (на основе предпочтений похожих пользователей). У ALS - еще и локальная | Не предполагает использование признаков| \n",
    "|\n",
    "||| User/item никогда не попадет в рекомендации, если нет интеракций|  \n",
    "||  | Popularity bias, поэтому нужно взвешивание, нормализация| \n",
    "|\n"
   ]
  },
  {
   "cell_type": "markdown",
   "id": "a6f6a46f",
   "metadata": {},
   "source": [
    "### Hierarchical Alternating Least Squares\n",
    "\n",
    "Подход ALS требует вычисления обратных матриц, что накладывает сильные ограничения на размерность скрытых переменных. Альтернативой ALS является подход HALS (Hierarchical Alternating Least Squares). На каждой итерации решаем оптимизационную задачу относительно только одной строчки матрицы $𝑃$ или $𝑄$. \n",
    "\n",
    "Аналитические формулы для $𝑘$-ой строчки матрицы 𝑃:\n",
    "\n",
    "$$\\frac{\\partial}{\\partial P_{ku}} \\bigg[ \\sum_{u',i} (r_{u'i} - \\langle p_{u'}, q_i \\rangle)^2 \\bigg] = \\sum_{i} 2(r_{ui} - \\langle p_u, q_i \\rangle)Q_{ki} = 0$$\n",
    "\n",
    "$$\\sum_{i} (r_{ui} - \\sum_{s\\neq k} P_{su} Q_{si} )Q_{ki} - P_{ku}\\sum_i Q_{ki}^2 = 0$$\n",
    "\n",
    "$$P_{ku} = \\frac{\\sum_{i} (r_{ui} - \\sum_{s\\neq k} P_{su} Q_{si} )Q_{ki}}{\\sum_i Q_{ki}^2}$$"
   ]
  },
  {
   "cell_type": "markdown",
   "id": "ebae3a16",
   "metadata": {},
   "source": [
    "### Neural Collaborative Filtering\n",
    "\n",
    "<img src='https://images.deepai.org/converted-papers/2004.12212/images/NCF.png' width=500>\n",
    "\n",
    "Нейросетевая версия обучения коллаборативной фильтрации. \n",
    "\n",
    "Несмотря на свою простоту модель обладает рядом важных достоинств:\n",
    "\n",
    "* мы можем легко обобщить модель на случай, когда у нас есть признаки пользователей или товаров, добавив эти признаки к векторам $\\alpha_u$ и $\\beta_i$ соответственно (также заметим, что добавление признаков в модель позволяет частично решить проблему холодного старта);\n",
    "* в зависимости от размеров выборки и природы данных мы можем адаптировать архитектуру под свои нужды, например, если у нас есть картинки в качестве признаков товаров, мы можем добавить сверточные слои в нашу нейронную сеть и обучать всю модель end-to-end.\n"
   ]
  },
  {
   "cell_type": "markdown",
   "id": "39079e61",
   "metadata": {},
   "source": [
    "**Попробуем запрограммировать и обучить простой вариант ALS**"
   ]
  },
  {
   "cell_type": "markdown",
   "id": "3b8ea0d2",
   "metadata": {},
   "source": [
    "Объединим данные из разных файлов, чтобы добавить к рейтингам метаданные фильмов (только название для удобства интерпретации)."
   ]
  },
  {
   "cell_type": "code",
   "execution_count": 38,
   "id": "85ebc33a",
   "metadata": {},
   "outputs": [],
   "source": [
    "ratings = pd.read_csv('/data/movies_ratings.csv')"
   ]
  },
  {
   "cell_type": "code",
   "execution_count": 44,
   "id": "35528fc3",
   "metadata": {},
   "outputs": [
    {
     "data": {
      "text/plain": [
       "(671, 9025)"
      ]
     },
     "execution_count": 44,
     "metadata": {},
     "output_type": "execute_result"
    }
   ],
   "source": [
    "user_encoder = LabelEncoder()\n",
    "item_encoder = LabelEncoder()\n",
    "\n",
    "ratings['userId'] = user_encoder.fit_transform(ratings['userId'])\n",
    "ratings['movieId'] = item_encoder.fit_transform(ratings['movieId'])\n",
    "\n",
    "num_users, num_movies = ratings.userId.nunique(), ratings.movieId.nunique()\n",
    "num_users, num_movies"
   ]
  },
  {
   "cell_type": "markdown",
   "id": "8ad16895",
   "metadata": {},
   "source": [
    "Поделим выборку на train и test так, чтобы у каждого пользователя последние 10 фильмов оказались в тесте для подсчета метрики качества рекомендаций k=10.  "
   ]
  },
  {
   "cell_type": "code",
   "execution_count": 45,
   "id": "2b735dc3",
   "metadata": {},
   "outputs": [
    {
     "name": "stdout",
     "output_type": "stream",
     "text": [
      "(93140, 5) (6710, 5)\n"
     ]
    }
   ],
   "source": [
    "train, test = [], []\n",
    "num_test_samples = 10\n",
    "\n",
    "for user, data in ratings.groupby('userId'):\n",
    "    train += [data[:-num_test_samples]]\n",
    "    test += [data[-num_test_samples:]]\n",
    "\n",
    "train = pd.concat(train)\n",
    "test = pd.concat(test)\n",
    "print(train.shape, test.shape)"
   ]
  },
  {
   "cell_type": "markdown",
   "id": "fd5e2d9a",
   "metadata": {},
   "source": [
    "Посмотрим на распределения рейтингов и количества оценок для разных фильмов. \n",
    "\n",
    "Как данные распределения могут повлиять на рекомендации из ALS и их качество?"
   ]
  },
  {
   "cell_type": "code",
   "execution_count": 72,
   "id": "1c257c7c",
   "metadata": {},
   "outputs": [
    {
     "data": {
      "image/png": "[encoded data removed]",
      "text/plain": [
       "<Figure size 360x360 with 1 Axes>"
      ]
     },
     "metadata": {},
     "output_type": "display_data"
    },
    {
     "data": {
      "image/png": "[encoded data removed]",
      "text/plain": [
       "<Figure size 360x360 with 1 Axes>"
      ]
     },
     "metadata": {},
     "output_type": "display_data"
    }
   ],
   "source": [
    "sns.displot(train.rating, height=5);\n",
    "sns.displot(train.groupby('movieId').size(), log_scale=True, height=5);"
   ]
  },
  {
   "cell_type": "markdown",
   "id": "c4b9dc45",
   "metadata": {},
   "source": [
    "Поскольку датасет очень маленький, позволим себе обучить ALS с обращением матриц."
   ]
  },
  {
   "cell_type": "code",
   "execution_count": 47,
   "id": "91f8ffd6",
   "metadata": {},
   "outputs": [],
   "source": [
    "def ALS(users: List, items: List, ratings: List, num_users: int, num_items: int, dim=64, n_iters=1, eps=1e-7):\n",
    "    R = csr_matrix((ratings, (users, items)), shape=(num_users, num_items))\n",
    "    P = np.random.randn(num_users, dim)\n",
    "    Q = np.random.randn(num_items, dim)\n",
    "    \n",
    "    for t in tqdm(range(n_iters)):\n",
    "        RQ = R @ Q\n",
    "        for u in range(num_users):\n",
    "            relevant_items = items[users == u]\n",
    "            Q_rel = Q[relevant_items]\n",
    "            QQ = Q_rel.reshape(-1, dim, 1) * Q_rel.reshape(-1, 1, dim)\n",
    "            P[u] = np.linalg.inv(QQ.sum(axis=0) + eps * np.eye(dim)) @ RQ[u]\n",
    "\n",
    "        RP = R.T @ P\n",
    "        for i in range(num_items):\n",
    "            relevant_users = users[items == i]\n",
    "            P_rel = P[relevant_users]\n",
    "            PP = P_rel.reshape(-1, dim, 1) * P_rel.reshape(-1, 1, dim)\n",
    "            Q[i] = np.linalg.inv(PP.sum(axis=0) + eps * np.eye(dim)) @ RP[i]\n",
    "    \n",
    "    return P, Q"
   ]
  },
  {
   "cell_type": "code",
   "execution_count": 60,
   "id": "b4c54183",
   "metadata": {
    "scrolled": true
   },
   "outputs": [
    {
     "name": "stderr",
     "output_type": "stream",
     "text": [
      "100%|███████████████████████████████████████████████████████████████████████████████████████████████████████████| 5/5 [01:01<00:00, 12.26s/it]\n"
     ]
    }
   ],
   "source": [
    "P, Q = ALS(train.userId, train.movieId, train.rating, num_users, num_movies, n_iters=5)"
   ]
  },
  {
   "cell_type": "markdown",
   "id": "cc192fb2",
   "metadata": {},
   "source": [
    "Сгенерируем предсказания, посчитав скалярные произведения между векторами пользователей и фильмов."
   ]
  },
  {
   "cell_type": "code",
   "execution_count": 61,
   "id": "ccf32221",
   "metadata": {},
   "outputs": [],
   "source": [
    "train_preds = (P[train.userId] * Q[train.movieId]).sum(axis=1)\n",
    "test_preds = (P[test.userId] * Q[test.movieId]).sum(axis=1)\n",
    "# для удобства можно отнормирвоать предсказания в шкалу оценок\n",
    "test_preds = np.clip(test_preds, 0.0, 5.0)"
   ]
  },
  {
   "cell_type": "markdown",
   "id": "1f2e5cfd",
   "metadata": {},
   "source": [
    "И нужно выбрать какую-то метрику для оценки качества. Мы предсказывали explicit рейтинги, давайте возьмем $R^2$, почему нет. "
   ]
  },
  {
   "cell_type": "code",
   "execution_count": 62,
   "id": "68f96ad9",
   "metadata": {},
   "outputs": [
    {
     "name": "stdout",
     "output_type": "stream",
     "text": [
      "Train R^2: 0.9639\n",
      "Test R^2: -2.6522\n"
     ]
    }
   ],
   "source": [
    "print(f'Train R^2: {r2_score(train.rating, train_preds):.4f}')\n",
    "print(f'Test R^2: {r2_score(test.rating, test_preds):.4f}')"
   ]
  },
  {
   "cell_type": "markdown",
   "id": "cbc827d4",
   "metadata": {},
   "source": [
    "Кстати, в каких случаях $R^2$ получается отрицательным?"
   ]
  },
  {
   "cell_type": "markdown",
   "id": "6044cd45",
   "metadata": {},
   "source": [
    "Может показаться, чот результаты получились из ряда вон плохие. Однако не стоит забывать, что нас интересуют не сами предсказания рейтингов, а рекомендации новых фильмов. Отсортируем предсказанные фильмы по оценкам прогнозов, т.е. значениям скалярных произведений, и посчитаем какую-нибудь метрику для ранжирования — MAP@k. Пусть $k=10$, например, потому что длина подборки из рекомендаций на сайте онлайн кинотеатра равна 10. Чтобы нам было с чем сравнивать, посчитаем еще рекомендацию из 10 случайных фильмов и Top Popular по рейтингам фильмов. "
   ]
  },
  {
   "cell_type": "code",
   "execution_count": 56,
   "id": "f5309e74",
   "metadata": {},
   "outputs": [],
   "source": [
    "def remove_train_items(preds, k):\n",
    "    new_preds = np.zeros((preds.shape[0], k), dtype=np.int)\n",
    "    for user, data in train.groupby('userId'):\n",
    "        user_preds = preds[user]\n",
    "        new_preds[user] = user_preds[~np.in1d(user_preds, data.movieId)][:k]\n",
    "    return new_preds\n",
    "\n",
    "\n",
    "def get_ALS_preds(U, V, k=10):\n",
    "    preds = np.argsort(U @ V.T, axis=1)\n",
    "    preds = remove_train_items(preds, k)\n",
    "    return preds\n",
    "\n",
    "\n",
    "def get_random_preds(k=10):\n",
    "    preds = np.tile(np.arange(num_movies), (num_users, 1))\n",
    "    for i in range(num_users):\n",
    "        rand_perm = np.random.permutation(num_movies)\n",
    "        preds[i] = preds[i][rand_perm]\n",
    "\n",
    "    preds = remove_train_items(preds, k)\n",
    "    return preds\n",
    "\n",
    "def get_toppop_preds(freq=10, k=10):\n",
    "    mean_rating = train.groupby('movieId').rating.mean()\n",
    "    mean_rating = mean_rating[train.groupby('movieId').size() >= freq]\n",
    "    preds = np.array(mean_rating.sort_values(ascending=False).index)\n",
    "    preds = np.tile(preds, (num_users, 1))\n",
    "    preds = remove_train_items(preds, k)\n",
    "    return preds\n",
    "\n",
    "\n",
    "def MAP_k(y_true, y_pred, k=10):\n",
    "    map_k, count = 0, 0\n",
    "    for relevant, predicted in zip(y_true, y_pred):\n",
    "        if not relevant:\n",
    "            continue\n",
    "        correct = np.isin(predicted[:k], relevant)\n",
    "        map_k += (correct / np.arange(1, k + 1)).sum() / (1 / np.arange(1, len(relevant) + 1)).sum()\n",
    "        count += 1\n",
    "    map_k = map_k / count\n",
    "    return map_k"
   ]
  },
  {
   "cell_type": "markdown",
   "id": "db7d6457",
   "metadata": {},
   "source": [
    "Посчитаем значение MAP@k для разных значений k."
   ]
  },
  {
   "cell_type": "code",
   "execution_count": 69,
   "id": "674bf014",
   "metadata": {},
   "outputs": [],
   "source": [
    "true_relevant = []\n",
    "for user, data in test[test.rating >= 3.0].groupby('userId'):\n",
    "    true_relevant += [data.movieId.tolist()]"
   ]
  },
  {
   "cell_type": "code",
   "execution_count": 70,
   "id": "6c2a9ca6",
   "metadata": {},
   "outputs": [],
   "source": [
    "ks = np.arange(1, 31)\n",
    "als_preds = get_ALS_preds(P, Q, k=ks[-1])\n",
    "random_preds = get_random_preds(k=ks[-1])\n",
    "top_preds = get_toppop_preds(freq=10, k=ks[-1])\n",
    "\n",
    "random_map_k = [MAP_k(true_relevant, random_preds, k=k) for k in ks]\n",
    "top_map_k = [MAP_k(true_relevant, top_preds, k=k) for k in ks]\n",
    "als_map_k = [MAP_k(true_relevant, als_preds, k=k) for k in ks]"
   ]
  },
  {
   "cell_type": "code",
   "execution_count": 71,
   "id": "cd668800",
   "metadata": {},
   "outputs": [
    {
     "data": {
      "image/png": "[encoded data removed]",
      "text/plain": [
       "<Figure size 720x432 with 1 Axes>"
      ]
     },
     "metadata": {},
     "output_type": "display_data"
    }
   ],
   "source": [
    "plt.figure(figsize=(10, 6))\n",
    "plt.plot(ks, random_map_k, label='Random')\n",
    "plt.plot(ks, top_map_k, label='Top Popular')\n",
    "plt.plot(ks, als_map_k, label='ALS')\n",
    "\n",
    "plt.legend(title='method')\n",
    "plt.xlabel('k')\n",
    "plt.ylabel('MAP@k')\n",
    "plt.show()"
   ]
  },
  {
   "cell_type": "markdown",
   "id": "9dc929a0",
   "metadata": {},
   "source": [
    "Источники:"
   ]
  },
  {
   "cell_type": "markdown",
   "id": "f4520143",
   "metadata": {},
   "source": [
    "1. https://developers.google.com/machine-learning/recommendation/collaborative/summary \n",
    "2. https://github.com/esokolov/ml-course-hse/blob/master/2021-spring/seminars/sem24-recommendations.pdf\n",
    "3. https://github.com/esokolov/ml-course-hse/blob/master/2021-spring/seminars/sem24-recommendations.ipynb\n",
    "4. https://github.com/esokolov/ml-course-hse/blob/master/2021-spring/homeworks-practice/homework-practice-13-recommendations/homework-practice-13-recommendations.ipynb\n"
   ]
  },
  {
   "cell_type": "code",
   "execution_count": null,
   "id": "4d066b0f",
   "metadata": {},
   "outputs": [],
   "source": []
  }
 ],
 "metadata": {
  "kernelspec": {
   "display_name": "Python 3",
   "language": "python",
   "name": "python3"
  },
  "language_info": {
   "codemirror_mode": {
    "name": "ipython",
    "version": 3
   },
   "file_extension": ".py",
   "mimetype": "text/x-python",
   "name": "python",
   "nbconvert_exporter": "python",
   "pygments_lexer": "ipython3",
   "version": "3.8.0"
  }
 },
 "nbformat": 4,
 "nbformat_minor": 5
}
