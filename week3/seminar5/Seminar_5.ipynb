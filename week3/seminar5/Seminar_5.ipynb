{
 "cells": [
  {
   "cell_type": "markdown",
   "id": "6d1db9a5",
   "metadata": {},
   "source": [
    "## <center> Content-based recommender models </center>"
   ]
  },
  {
   "cell_type": "code",
   "execution_count": 1,
   "id": "96102d52",
   "metadata": {},
   "outputs": [],
   "source": [
    "import warnings\n",
    "warnings.filterwarnings('ignore')\n",
    "\n",
    "import collections\n",
    "import numpy as np\n",
    "import os\n",
    "import pandas as pd\n",
    "import torch\n",
    "import torch.nn.functional as F\n",
    "\n",
    "from sklearn.preprocessing import LabelEncoder\n",
    "from utils.data import MatchDataGenerator, df_to_dict\n",
    "from utils.basic_layers import MLP, EmbeddingLayer\n",
    "from utils.features import SparseFeature, SequenceFeature\n",
    "from utils.match import Annoy, generate_seq_feature_match, gen_model_input\n",
    "from utils.metrics import topk_metrics\n",
    "from utils.trainer import MatchTrainer\n",
    "\n",
    "pd.set_option('display.max_rows', 500)\n",
    "pd.set_option('display.max_columns', 500)\n",
    "pd.set_option('display.width', 1000)\n",
    "torch.manual_seed(42);"
   ]
  },
  {
   "cell_type": "markdown",
   "id": "233927c9",
   "metadata": {},
   "source": [
    "**Ключевая идея** - давайте попробуем учиться не только на взаимодействиях users и items, но и добавлять в модель имеющиеся по ним признаки."
   ]
  },
  {
   "cell_type": "markdown",
   "id": "8ddca416",
   "metadata": {},
   "source": [
    "Способов немало, но сегодня разберем наиболее интересные и распространенные примеры:\n",
    "- DSSM и ее адаптации\n",
    "- LightFM"
   ]
  },
  {
   "cell_type": "markdown",
   "id": "834c18b6",
   "metadata": {},
   "source": [
    "#### DSSM (Deep Structured Semantic Model) \n",
    "\n",
    "Вспомним, как выглядела оригинальная модель DSSM для задачи ранжирования выдачи поиска.  \n",
    "\n",
    "<img src='https://kishorepv.github.io/images/DSSM_layers.png' width=700>\n",
    "\n",
    "где $R(Q, D) = cosine(y_{Q}, y_{D}) = \\frac{y_{Q}^{T} y_{D}}{||y_{Q}|| \\cdot ||y_{D}||}$. \n",
    "\n",
    "При этом, считаем оценку семантической релевантности текущего документа и заданном запроса через как:\n",
    "\n",
    "$$P(D|Q) = \\frac{exp(\\gamma R(Q, D)}{\\sum_{D' \\in D}exp(\\gamma R(Q, D') }$$\n",
    "\n",
    "Проблема со знаменателем давно известна, поэтому минимизировать будем следующую функцию:\n",
    "\n",
    "$$L (Λ) = - log \\prod_{(Q, D^{+})} P(D^{+}|Q)$$"
   ]
  },
  {
   "cell_type": "markdown",
   "id": "68f57f54",
   "metadata": {},
   "source": [
    "Слева - уже знакомая нам постановка задачи для матричной факторизации. Справа - как можем модифицировать DSSM под решение задачи рекомендаций и с обогащением признаками.\n",
    "\n",
    "<img src='images/dot_prod.png' width=600>"
   ]
  },
  {
   "cell_type": "code",
   "execution_count": 2,
   "id": "a72e0f1e",
   "metadata": {},
   "outputs": [],
   "source": [
    "\"\"\"\n",
    "References: \n",
    "    paper: (CIKM'2013) Learning Deep Structured Semantic Models for Web Search using Clickthrough Data\n",
    "    url: https://posenhuang.github.io/papers/cikm2013_DSSM_fullversion.pdf\n",
    "    code: https://github.com/bbruceyuan/DeepMatch-Torch/blob/main/deepmatch_torch/models/dssm.py\n",
    "\"\"\"\n",
    "\n",
    "class DSSM(torch.nn.Module):\n",
    "    \"\"\"Deep Structured Semantic Model\n",
    "    Args:\n",
    "        user_features (list[Feature Class]): training by the user tower module.\n",
    "        item_features (list[Feature Class]): training by the item tower module.\n",
    "        temperature (float): temperature factor for similarity score, default to 1.0.\n",
    "        user_params (dict): the params of the User Tower module, \n",
    "        keys include:`{\"dims\":list, \"activation\":str, \"dropout\":float, \"output_layer\":bool`}.\n",
    "        item_params (dict): the params of the Item Tower module, keys include:`{\"dims\":list, \"activation\":str, \"dropout\":float, \"output_layer\":bool`}.\n",
    "    \"\"\"\n",
    "\n",
    "    def __init__(self, user_features, item_features, user_params, item_params, temperature=1.0):\n",
    "        super().__init__()\n",
    "        self.user_features = user_features\n",
    "        self.item_features = item_features\n",
    "        self.temperature = temperature\n",
    "        self.user_dims = sum([f.embed_dim for f in user_features])\n",
    "        self.item_dims = sum([f.embed_dim for f in item_features])\n",
    "\n",
    "        self.embedding = EmbeddingLayer(user_features + item_features)\n",
    "        self.user_mlp = MLP(self.user_dims, output_layer=False, **user_params)\n",
    "        self.item_mlp = MLP(self.item_dims, output_layer=False, **item_params)\n",
    "        self.mode = None\n",
    "\n",
    "    def forward(self, x):\n",
    "        user_embedding = self.user_tower(x)\n",
    "        item_embedding = self.item_tower(x)\n",
    "        if self.mode == \"user\":\n",
    "            return user_embedding\n",
    "        if self.mode == \"item\":\n",
    "            return item_embedding\n",
    "        y = # YOUR ONE-LINE CODE HERE\n",
    "        return torch.sigmoid(y)\n",
    "\n",
    "    def item_tower(self, x):\n",
    "        if self.mode == \"user\":\n",
    "            return None\n",
    "        # Какая тут размерность? \n",
    "        input_item = self.embedding(x, self.item_features, squeeze_dim=True)\n",
    "        item_embedding = self.item_mlp(input_item)\n",
    "        item_embedding = F.normalize(item_embedding, p=2, dim=1)\n",
    "        return item_embedding\n",
    "    \n",
    "    def user_tower(self, x):\n",
    "        if self.mode == \"item\":\n",
    "            return None\n",
    "        input_user = self.embedding(x, self.user_features, squeeze_dim=True)\n",
    "        user_embedding = self.user_mlp(input_user)\n",
    "        user_embedding = F.normalize(user_embedding, p=2, dim=1)\n",
    "        return user_embedding"
   ]
  },
  {
   "cell_type": "markdown",
   "id": "2202c359",
   "metadata": {},
   "source": [
    "Кстати, recap, как называется архитектура с картинки ниже?\n",
    "\n",
    "Сравните ее еще раз с архитектурами DSSM и CF (ч.с. MF) и не путайте =)\n",
    "\n",
    "<img src='images/NCF.png' width=400>"
   ]
  },
  {
   "cell_type": "markdown",
   "id": "ab80cefa",
   "metadata": {},
   "source": [
    "Есть много имплементаций DSSM, можно посмотреть, например, в библиотеке [RecBole](https://github.com/RUCAIBox/RecBole/blob/4b6c6fef9b2f21326876f81e5d76631b280b0909/recbole/model/context_aware_recommender/dssm.py)"
   ]
  },
  {
   "cell_type": "markdown",
   "id": "e2450865",
   "metadata": {},
   "source": [
    "<img src='images/dot_prod.png' width=600>\n",
    "\n",
    "Как будем оптимизировать для RecSys? Лоссы можно выбирать разные. Самые простые из них:\n",
    "\n",
    "* **Кросс-энтропия**\n",
    "\n",
    "$\\hat p_{ui} = \\sigma (R(u, i)) = \\sigma(y_{u}^T y_{i})$ - вероятность, что юзер совершит действие с айтемом.\n",
    "\n",
    "Тогда функция потерь:\n",
    "\n",
    "$L = - \\sum_{u, i} (r_{ui}\\cdot log \\hat p_{ui} + (1 - r_{ui}) \\cdot log(1 - \\hat p_{ui}))$\n",
    "\n",
    "* **Triplet loss**\n",
    "\n",
    "Рассматриваем тройки из пользователя, положительного примера для него и отрицательного - $R(u, i_{+}, i_{-})$\n",
    "\n",
    "$L(R(u, i_{+}), R(u, i_{-})) = max(0, \\alpha - R(u, i_{+}) + R(u, i_{-}))$\n",
    "\n",
    "То есть, пытаемся увеличивать разницу, задавая некоторый порог (отступ) альфа. "
   ]
  },
  {
   "cell_type": "markdown",
   "id": "9dc67787",
   "metadata": {},
   "source": [
    "* Давайте тут остановимся и подумаем, какие варианты negative sampling при оптимизации лосса тут можно использвать?\n",
    "\n",
    "* Какие признаки можно использовать по users, items в качестве input данных? \n",
    "\n",
    "* Какие преимущества и недостатки у DSSM модели?\n",
    "\n",
    "\n",
    "| Метод | Достоинства  |  Недостатки | \n",
    "|---|---|---|\n",
    "| DSSM| Может выявить нелинейные закономерности  |  Дополнительная работа с признаками и оценкой их вклада|  \n",
    "|\n",
    "|| Real-time inference на проде | Необходимость подбора параметров и тюнинга гиперпараметров |  \n",
    "|\n",
    "|| Возможность добавлять признаки разного типа| Уже вряд ли можно назвать SOTA по качеству ранжирования | \n",
    "|\n",
    "|| Подходит как мета-алгоритм для каскадной модели| |  \n",
    "|\n",
    "|| User и item эмбеддинги в едином векторном пространстве| |  "
   ]
  },
  {
   "cell_type": "markdown",
   "id": "815SCcTVlFg-",
   "metadata": {
    "id": "815SCcTVlFg-",
    "pycharm": {
     "name": "#%% md\n"
    }
   },
   "source": [
    "### MovieLens-1M\n",
    "\n",
    "Источник: https://grouplens.org/datasets/movielens/1m/ с данными в трех файлах: users.dat, ratings.dat, movies.dat, которые мы объединились в один csv. \n",
    "Для быстроты вычислений на семинаре мы взяли первые 10к строк из датасета, но если будете воспроизводить у себя и захотите посмотреть на финальное качество модели, попробуйте поработать со всем датасетом. "
   ]
  },
  {
   "cell_type": "code",
   "execution_count": 3,
   "id": "a28daa32",
   "metadata": {},
   "outputs": [
    {
     "data": {
      "text/html": [
       "<div>\n",
       "<style scoped>\n",
       "    .dataframe tbody tr th:only-of-type {\n",
       "        vertical-align: middle;\n",
       "    }\n",
       "\n",
       "    .dataframe tbody tr th {\n",
       "        vertical-align: top;\n",
       "    }\n",
       "\n",
       "    .dataframe thead th {\n",
       "        text-align: right;\n",
       "    }\n",
       "</style>\n",
       "<table border=\"1\" class=\"dataframe\">\n",
       "  <thead>\n",
       "    <tr style=\"text-align: right;\">\n",
       "      <th></th>\n",
       "      <th>user_id</th>\n",
       "      <th>movie_id</th>\n",
       "      <th>rating</th>\n",
       "      <th>timestamp</th>\n",
       "      <th>title</th>\n",
       "      <th>genres</th>\n",
       "      <th>gender</th>\n",
       "      <th>age</th>\n",
       "      <th>occupation</th>\n",
       "      <th>zip</th>\n",
       "    </tr>\n",
       "  </thead>\n",
       "  <tbody>\n",
       "    <tr>\n",
       "      <th>0</th>\n",
       "      <td>1</td>\n",
       "      <td>1193</td>\n",
       "      <td>5</td>\n",
       "      <td>978300760</td>\n",
       "      <td>One Flew Over the Cuckoo's Nest (1975)</td>\n",
       "      <td>Drama</td>\n",
       "      <td>F</td>\n",
       "      <td>1</td>\n",
       "      <td>10</td>\n",
       "      <td>48067</td>\n",
       "    </tr>\n",
       "    <tr>\n",
       "      <th>1</th>\n",
       "      <td>1</td>\n",
       "      <td>661</td>\n",
       "      <td>3</td>\n",
       "      <td>978302109</td>\n",
       "      <td>James and the Giant Peach (1996)</td>\n",
       "      <td>Animation|Children's|Musical</td>\n",
       "      <td>F</td>\n",
       "      <td>1</td>\n",
       "      <td>10</td>\n",
       "      <td>48067</td>\n",
       "    </tr>\n",
       "    <tr>\n",
       "      <th>2</th>\n",
       "      <td>1</td>\n",
       "      <td>914</td>\n",
       "      <td>3</td>\n",
       "      <td>978301968</td>\n",
       "      <td>My Fair Lady (1964)</td>\n",
       "      <td>Musical|Romance</td>\n",
       "      <td>F</td>\n",
       "      <td>1</td>\n",
       "      <td>10</td>\n",
       "      <td>48067</td>\n",
       "    </tr>\n",
       "    <tr>\n",
       "      <th>3</th>\n",
       "      <td>1</td>\n",
       "      <td>3408</td>\n",
       "      <td>4</td>\n",
       "      <td>978300275</td>\n",
       "      <td>Erin Brockovich (2000)</td>\n",
       "      <td>Drama</td>\n",
       "      <td>F</td>\n",
       "      <td>1</td>\n",
       "      <td>10</td>\n",
       "      <td>48067</td>\n",
       "    </tr>\n",
       "    <tr>\n",
       "      <th>4</th>\n",
       "      <td>1</td>\n",
       "      <td>2355</td>\n",
       "      <td>5</td>\n",
       "      <td>978824291</td>\n",
       "      <td>Bug's Life, A (1998)</td>\n",
       "      <td>Animation|Children's|Comedy</td>\n",
       "      <td>F</td>\n",
       "      <td>1</td>\n",
       "      <td>10</td>\n",
       "      <td>48067</td>\n",
       "    </tr>\n",
       "  </tbody>\n",
       "</table>\n",
       "</div>"
      ],
      "text/plain": [
       "   user_id  movie_id  rating  timestamp                                   title                        genres gender  age  occupation    zip\n",
       "0        1      1193       5  978300760  One Flew Over the Cuckoo's Nest (1975)                         Drama      F    1          10  48067\n",
       "1        1       661       3  978302109        James and the Giant Peach (1996)  Animation|Children's|Musical      F    1          10  48067\n",
       "2        1       914       3  978301968                     My Fair Lady (1964)               Musical|Romance      F    1          10  48067\n",
       "3        1      3408       4  978300275                  Erin Brockovich (2000)                         Drama      F    1          10  48067\n",
       "4        1      2355       5  978824291                    Bug's Life, A (1998)   Animation|Children's|Comedy      F    1          10  48067"
      ]
     },
     "execution_count": 3,
     "metadata": {},
     "output_type": "execute_result"
    }
   ],
   "source": [
    "file_path = 'ml-1m.csv'\n",
    "data = pd.read_csv(file_path, nrows=10000)\n",
    "data.head()"
   ]
  },
  {
   "cell_type": "markdown",
   "id": "92ed2db3",
   "metadata": {},
   "source": [
    "Препроцессинг - энкодинг, обработка колонки с жанрами (оставим только первый указанный), сделаем split по числу интеракций в тесте."
   ]
  },
  {
   "cell_type": "code",
   "execution_count": 4,
   "id": "3c8706e9",
   "metadata": {},
   "outputs": [],
   "source": [
    "data[\"cat_id\"] = data[\"genres\"].apply(lambda x: x.split(\"|\")[0])\n",
    "user_col, item_col = \"user_id\", \"movie_id\"\n",
    "sparse_features = ['user_id', 'movie_id', 'gender', 'age', 'occupation', 'zip', \"cat_id\"]"
   ]
  },
  {
   "cell_type": "code",
   "execution_count": 5,
   "id": "CXAO69hclFhC",
   "metadata": {
    "id": "CXAO69hclFhC",
    "outputId": "f68453c4-b1aa-4728-c929-1ec883e4ed6f",
    "pycharm": {
     "name": "#%%\n"
    }
   },
   "outputs": [
    {
     "name": "stdout",
     "output_type": "stream",
     "text": [
      "Before encoding: \n",
      "       user_id  movie_id gender  age  occupation   zip  cat_id\n",
      "9995      180      1193      M   45          12  1603   Drama\n",
      "9996      180      3408      M   45          12  1603   Drama\n",
      "9997      180       608      M   45          12  1603   Crime\n",
      "9998      180      3068      M   45          12  1603   Drama\n",
      "9999      180      3578      M   45          12  1603  Action\n",
      "After encoding: \n",
      "       user_id  movie_id  gender  age  occupation  zip  cat_id\n",
      "9995       46       644       2    5          11    2       8\n",
      "9996       46      1881       2    5          11    2       8\n",
      "9997       46       365       2    5          11    2       6\n",
      "9998       46      1709       2    5          11    2       8\n",
      "9999       46      1983       2    5          11    2       1\n"
     ]
    }
   ],
   "source": [
    "save_dir = './saved/'\n",
    "if not os.path.exists(save_dir):\n",
    "    os.makedirs(save_dir)\n",
    "    \n",
    "print(f'Before encoding: \\n {data[sparse_features].tail()}')\n",
    "\n",
    "feature_max_idx = {}\n",
    "for feature in sparse_features:\n",
    "    encoder = LabelEncoder()\n",
    "    data[feature] = encoder.fit_transform(data[feature]) + 1 # лучше энкодить не с 0, особенно в sequential NN\n",
    "    feature_max_idx[feature] = data[feature].max() + 1\n",
    "    if feature == user_col:\n",
    "        user_map = {encode_id + 1: raw_id for encode_id, raw_id in enumerate(encoder.classes_)}\n",
    "    if feature == item_col:\n",
    "        item_map = {encode_id + 1: raw_id for encode_id, raw_id in enumerate(encoder.classes_)}\n",
    "np.save(save_dir + \"raw_id_maps.npy\", (user_map, item_map))\n",
    "\n",
    "print(f'After encoding: \\n {data[sparse_features].tail()}')"
   ]
  },
  {
   "cell_type": "code",
   "execution_count": 6,
   "id": "ofoMu3SKlFhD",
   "metadata": {
    "id": "ofoMu3SKlFhD",
    "outputId": "a4673ec1-74eb-43ab-edde-002a66901b64",
    "pycharm": {
     "name": "#%%\n"
    }
   },
   "outputs": [],
   "source": [
    "user_cols = [\"user_id\", \"gender\", \"age\", \"occupation\", \"zip\"]\n",
    "item_cols = ['movie_id', \"cat_id\"]\n",
    "user_profile = data[user_cols].drop_duplicates('user_id')\n",
    "item_profile = data[item_cols].drop_duplicates('movie_id')"
   ]
  },
  {
   "cell_type": "markdown",
   "id": "8cbd1610",
   "metadata": {},
   "source": [
    "Наиболее интересные тут параметры - `sample_method`, `mode`, `neg_ratio`, `min_item`. "
   ]
  },
  {
   "cell_type": "code",
   "execution_count": 7,
   "id": "XZ4jzoiulFhE",
   "metadata": {
    "id": "XZ4jzoiulFhE",
    "outputId": "ead082af-3809-4682-a7c2-769894bc2727",
    "pycharm": {
     "name": "#%%\n"
    },
    "scrolled": true
   },
   "outputs": [
    {
     "name": "stderr",
     "output_type": "stream",
     "text": [
      "generate sequence features: 100%|████████████████████████████████████████████████████████████████████████████| 46/46 [00:00<00:00, 312.81it/s]"
     ]
    },
    {
     "name": "stdout",
     "output_type": "stream",
     "text": [
      "n_train: 39632, n_test: 46\n",
      "0 cold start users droped \n"
     ]
    },
    {
     "name": "stderr",
     "output_type": "stream",
     "text": [
      "\n"
     ]
    }
   ],
   "source": [
    "df_train, df_test = generate_seq_feature_match(data,\n",
    "                                               user_col,\n",
    "                                               item_col,\n",
    "                                               time_col=\"timestamp\",\n",
    "                                               item_attribute_cols=[],\n",
    "                                               sample_method=1,\n",
    "                                               mode=0,\n",
    "                                               neg_ratio=3,\n",
    "                                               min_item=3)"
   ]
  },
  {
   "cell_type": "markdown",
   "id": "125b031a",
   "metadata": {},
   "source": [
    "Важно помнить про `max sequence length`."
   ]
  },
  {
   "cell_type": "code",
   "execution_count": 8,
   "id": "8733bca4",
   "metadata": {},
   "outputs": [
    {
     "data": {
      "text/plain": [
       "{'user_id': array([17, 12, 16]),\n",
       " 'movie_id': array([1600, 1529, 2105]),\n",
       " 'hist_movie_id': array([[1936,  433, 1087,  409, 1553,  767,  755,  764,  195,  618, 2044,\n",
       "         2166, 1557, 1597, 1682, 2098,  234,  765, 1099, 2157,  343,  759,\n",
       "          146, 1815, 1217, 1971, 1205, 1084, 1555, 1561, 1100, 1517, 1409,\n",
       "          323,  706, 1181, 2023, 1287,  107,  761,  113, 1384, 2158, 1093,\n",
       "         2159,  406,  490,  632, 1565, 1101],\n",
       "        [2053, 1168, 1415, 1339, 1418, 1105, 2016, 1034,  415, 1468, 1276,\n",
       "         1106, 2092, 1012, 1690, 1179,   46,  860,  976, 2169,  112,  566,\n",
       "         1123,  185, 1161,  754,  231,  783, 1664,  878,  117,  877, 2086,\n",
       "          103, 1469,  104, 1352, 1382,  996,  463,  411, 2108,  686,  663,\n",
       "          492,  645, 1921,  616,  872,  550],\n",
       "        [   0,    0,    0,    0,    0,    0,    0,    0,    0,    0,    0,\n",
       "            0,    0,    0,    0,    0,    0,    0,    0,    0,    0,    0,\n",
       "            0,    0,    0,    0,    0,    0,    0,    0,    0,    0,    0,\n",
       "            0,    0,    0,    0,    0,    0,    0,    0,    0,  340, 1461,\n",
       "          872, 1731,  320,  287, 1095, 2081]]),\n",
       " 'histlen_movie_id': array([443, 107,   8]),\n",
       " 'label': array([1, 0, 1]),\n",
       " 'gender': array([2, 2, 2]),\n",
       " 'age': array([3, 3, 2]),\n",
       " 'occupation': array([ 1,  7, 11]),\n",
       " 'zip': array([42, 13, 31]),\n",
       " 'cat_id': array([1, 1, 1])}"
      ]
     },
     "execution_count": 8,
     "metadata": {},
     "output_type": "execute_result"
    }
   ],
   "source": [
    "x_train = gen_model_input(df_train, user_profile, user_col, item_profile, item_col, seq_max_len=50)\n",
    "x_test = gen_model_input(df_test, user_profile, user_col, item_profile, item_col, seq_max_len=50)\n",
    "y_train = x_train[\"label\"]\n",
    "y_test = x_test[\"label\"]\n",
    "\n",
    "{k: v[:3] for k, v in x_train.items()}"
   ]
  },
  {
   "cell_type": "code",
   "execution_count": 9,
   "id": "scu7A3gflFhF",
   "metadata": {
    "id": "scu7A3gflFhF",
    "outputId": "cddb3abb-f777-4bb1-a964-b3aa14208fa1",
    "pycharm": {
     "name": "#%%\n"
    }
   },
   "outputs": [],
   "source": [
    "user_features = [\n",
    "    SparseFeature(feature_name, vocab_size=feature_max_idx[feature_name], embed_dim=16) for feature_name in user_cols\n",
    "]\n",
    "\n",
    "user_features += [\n",
    "    SequenceFeature(\"hist_movie_id\",\n",
    "                    vocab_size=feature_max_idx[\"movie_id\"],\n",
    "                    embed_dim=16,\n",
    "                    pooling=\"mean\",\n",
    "                    shared_with=\"movie_id\")\n",
    "]\n",
    "\n",
    "item_features = [\n",
    "    SparseFeature(feature_name, vocab_size=feature_max_idx[feature_name], embed_dim=16) for feature_name in item_cols\n",
    "]"
   ]
  },
  {
   "cell_type": "code",
   "execution_count": 10,
   "id": "ec748585",
   "metadata": {},
   "outputs": [],
   "source": [
    "all_item = df_to_dict(item_profile)\n",
    "test_user = x_test\n",
    "data_generator = MatchDataGenerator(x=x_train, y=y_train)\n",
    "train_dl, test_dl, item_dl = data_generator.generate_dataloader(test_user, all_item, batch_size=128)"
   ]
  },
  {
   "cell_type": "code",
   "execution_count": null,
   "id": "4fb791e6",
   "metadata": {
    "id": "4fb791e6",
    "outputId": "557de275-42df-451d-94b1-15990999f80d",
    "pycharm": {
     "name": "#%%\n"
    }
   },
   "outputs": [
    {
     "name": "stdout",
     "output_type": "stream",
     "text": [
      "epoch: 0\n"
     ]
    },
    {
     "name": "stderr",
     "output_type": "stream",
     "text": [
      "train: 100%|█████████████████████████████████████████████████████████████████████████████████████| 310/310 [00:06<00:00, 51.51it/s, loss=0.56]\n"
     ]
    },
    {
     "name": "stdout",
     "output_type": "stream",
     "text": [
      "epoch: 1\n"
     ]
    },
    {
     "name": "stderr",
     "output_type": "stream",
     "text": [
      "train:   8%|███████▏                                                                             | 26/310 [01:13<13:25,  2.84s/it, loss=0.569]"
     ]
    }
   ],
   "source": [
    "model = DSSM(user_features,\n",
    "             item_features,\n",
    "             temperature=0.02,\n",
    "             user_params={\n",
    "                 \"dims\": [256, 128, 64],\n",
    "                 \"activation\": 'prelu',\n",
    "             },\n",
    "             item_params={\n",
    "                 \"dims\": [256, 128, 64],\n",
    "                 \"activation\": 'prelu',\n",
    "             })\n",
    "\n",
    "trainer = MatchTrainer(model,\n",
    "                       mode=0,\n",
    "                       optimizer_params={\n",
    "                           \"lr\": 1e-2,\n",
    "                           \"weight_decay\": 1e-5\n",
    "                       },\n",
    "                       n_epoch=3,\n",
    "                       device='cpu',\n",
    "                       model_path=save_dir)\n",
    "\n",
    "\n",
    "trainer.fit(train_dl)"
   ]
  },
  {
   "cell_type": "markdown",
   "id": "3bffa61a",
   "metadata": {},
   "source": [
    "Как вы думаете, зачем нам понадобился ANN алгоритм? "
   ]
  },
  {
   "cell_type": "code",
   "execution_count": null,
   "id": "3866e820",
   "metadata": {
    "pycharm": {
     "name": "#%%\n"
    }
   },
   "outputs": [],
   "source": [
    "def match_evaluation(user_embedding, item_embedding, test_user, all_item, user_col='user_id', item_col='movie_id',\n",
    "                     raw_id_maps=\"./raw_id_maps.npy\", topk=10):\n",
    "    \n",
    "    # Fit Annoy tree on item embeddings\n",
    "    annoy = Annoy(n_trees=10)\n",
    "    annoy.fit(item_embedding)\n",
    "\n",
    "    # For each user get top-k similar items\n",
    "    user_map, item_map = np.load(raw_id_maps, allow_pickle=True)\n",
    "    match_res = collections.defaultdict(dict)\n",
    "    for user_id, user_emb in zip(test_user[user_col], user_embedding):\n",
    "        items_idx, items_scores = annoy.query(v=user_emb, n=topk)\n",
    "        match_res[user_map[user_id]] = np.vectorize(item_map.get)(all_item[item_col][items_idx])\n",
    "\n",
    "    # Get ground truth\n",
    "    data = pd.DataFrame({user_col: test_user[user_col], item_col: test_user[item_col]})\n",
    "    data[user_col] = data[user_col].map(user_map)\n",
    "    data[item_col] = data[item_col].map(item_map)\n",
    "    user_pos_item = data.groupby(user_col).agg(list).reset_index()\n",
    "    ground_truth = dict(zip(user_pos_item[user_col], user_pos_item[item_col]))\n",
    "\n",
    "    # Compute top-k metrics\n",
    "    out = topk_metrics(y_true=ground_truth, y_pred=match_res, topKs=[topk])\n",
    "    return out"
   ]
  },
  {
   "cell_type": "code",
   "execution_count": null,
   "id": "CKfpMh0vlFhG",
   "metadata": {
    "id": "CKfpMh0vlFhG",
    "outputId": "a722cd9d-1909-423b-a7d1-52e84a6c10e3",
    "pycharm": {
     "name": "#%%\n"
    }
   },
   "outputs": [],
   "source": [
    "user_embedding = trainer.inference_embedding(model=model, mode=\"user\", data_loader=test_dl, model_path=save_dir)\n",
    "item_embedding = trainer.inference_embedding(model=model, mode=\"item\", data_loader=item_dl, model_path=save_dir)\n",
    "match_evaluation(user_embedding, item_embedding, test_user, all_item, topk=100, raw_id_maps=save_dir + \"raw_id_maps.npy\")"
   ]
  },
  {
   "cell_type": "markdown",
   "id": "yA0ORyDTlFhH",
   "metadata": {
    "id": "yA0ORyDTlFhH",
    "pycharm": {
     "name": "#%% md\n"
    }
   },
   "source": [
    "### YouTubeDNN\n",
    "\n",
    "Covington, P., Adams, J. and Sargin, E., 2016, September. Deep neural networks for youtube recommendations. In Proceedings of the 10th ACM conference on recommender systems (pp. 191-198).\n",
    "\n",
    "https://dl.acm.org/doi/pdf/10.1145/2959100.2959190\n",
    "\n",
    "<img src='images/YoutubeDNN.png' width=800>"
   ]
  },
  {
   "cell_type": "code",
   "execution_count": null,
   "id": "cfc683e2",
   "metadata": {},
   "outputs": [],
   "source": [
    "class YoutubeDNN(torch.nn.Module):\n",
    "    \"\"\"\n",
    "    The match model mentioned in `Deep Neural Networks for YouTube Recommendations` paper.\n",
    "    It's a DSSM match model trained by global softmax loss on list-wise samples. \n",
    "    In origin paper, item dnn tower is missing.\n",
    "    Args:\n",
    "        user_features (list[Feature Class]): training by the user tower module.\n",
    "        item_features (list[Feature Class]): training by the embedding table, it's the item id feature.\n",
    "        neg_item_feature (list[Feature Class]): training by the embedding table, it's the negative items id feature.\n",
    "        user_params (dict): the params of the User Tower module, \n",
    "        keys include:`{\"dims\":list, \"activation\":str, \"dropout\":float, \"output_layer\":bool`}.\n",
    "        temperature (float): temperature factor for similarity score, default to 1.0.\n",
    "    \"\"\"\n",
    "\n",
    "    def __init__(self, user_features, item_features, neg_item_feature, user_params, temperature=1.0):\n",
    "        super().__init__()\n",
    "        self.user_features = user_features\n",
    "        self.item_features = item_features\n",
    "        self.neg_item_feature = neg_item_feature\n",
    "        self.temperature = temperature\n",
    "        self.user_dims = sum([fea.embed_dim for fea in user_features])\n",
    "        self.embedding = EmbeddingLayer(user_features + item_features)\n",
    "        self.user_mlp = MLP(self.user_dims, output_layer=False, **user_params)\n",
    "        self.mode = None\n",
    "\n",
    "    def forward(self, x):\n",
    "        user_embedding = self.user_tower(x)\n",
    "        item_embedding = self.item_tower(x)\n",
    "        if self.mode == \"user\":\n",
    "            return user_embedding\n",
    "        if self.mode == \"item\":\n",
    "            return item_embedding\n",
    "\n",
    "        y = torch.mul(user_embedding, item_embedding).sum(dim=2)\n",
    "        y = y / self.temperature\n",
    "        return y\n",
    "\n",
    "    def user_tower(self, x):\n",
    "        if self.mode == \"item\":\n",
    "            return None\n",
    "        # [batch_size, num_features * deep_dims]\n",
    "        input_user = self.embedding(x, self.user_features, squeeze_dim=True)\n",
    "        # [batch_size, 1, embed_dim]\n",
    "        user_embedding = self.user_mlp(input_user).unsqueeze(1)\n",
    "        user_embedding = F.normalize(user_embedding, p=2, dim=2)\n",
    "        if self.mode == \"user\":\n",
    "            return user_embedding.squeeze(1)\n",
    "        return user_embedding\n",
    "\n",
    "    def item_tower(self, x):\n",
    "        if self.mode == \"user\":\n",
    "            return None\n",
    "        #[batch_size, 1, embed_dim]\n",
    "        pos_embedding = self.embedding(x, self.item_features, squeeze_dim=False)\n",
    "        pos_embedding = F.normalize(pos_embedding, p=2, dim=2)\n",
    "        # inference embedding mode\n",
    "        if self.mode == \"item\":\n",
    "            # [batch_size, embed_dim]\n",
    "            return pos_embedding.squeeze(1)\n",
    "        #[batch_size, n_neg_items, embed_dim]\n",
    "        neg_embeddings = self.embedding(x, self.neg_item_feature,\n",
    "                                        squeeze_dim=False).squeeze(1)\n",
    "        neg_embeddings = F.normalize(neg_embeddings, p=2, dim=2)\n",
    "        # [batch_size, 1 + n_neg_items, embed_dim]\n",
    "        return torch.cat((pos_embedding, neg_embeddings), dim=1)"
   ]
  },
  {
   "cell_type": "code",
   "execution_count": null,
   "id": "81a9fee0",
   "metadata": {},
   "outputs": [],
   "source": [
    "df_train, df_test = generate_seq_feature_match(data,\n",
    "                                               user_col,\n",
    "                                               item_col,\n",
    "                                               time_col=\"timestamp\",\n",
    "                                               item_attribute_cols=[],\n",
    "                                               sample_method=1,\n",
    "                                               mode=2,\n",
    "                                               neg_ratio=3,\n",
    "                                               min_item=0)\n",
    "x_train = gen_model_input(df_train, user_profile, user_col, item_profile, item_col, seq_max_len=50)\n",
    "y_train = np.array([0] * df_train.shape[0])\n",
    "x_test = gen_model_input(df_test, user_profile, user_col, item_profile, item_col, seq_max_len=50)\n",
    "\n",
    "user_cols = ['user_id', 'gender', 'age', 'occupation', 'zip']\n",
    "\n",
    "user_features = [SparseFeature(name, vocab_size=feature_max_idx[name], embed_dim=16) for name in user_cols]\n",
    "user_features += [\n",
    "    SequenceFeature(\"hist_movie_id\",\n",
    "                    vocab_size=feature_max_idx[\"movie_id\"],\n",
    "                    embed_dim=16,\n",
    "                    pooling=\"mean\",\n",
    "                    shared_with=\"movie_id\")\n",
    "]\n",
    "\n",
    "item_features = [SparseFeature('movie_id', vocab_size=feature_max_idx['movie_id'], embed_dim=16)]\n",
    "neg_item_feature = [\n",
    "    SequenceFeature('neg_items',\n",
    "                    vocab_size=feature_max_idx['movie_id'],\n",
    "                    embed_dim=16,\n",
    "                    pooling=\"concat\",\n",
    "                    shared_with=\"movie_id\")\n",
    "]\n",
    "\n",
    "all_item = df_to_dict(item_profile)\n",
    "test_user = x_test\n",
    "\n",
    "dg = MatchDataGenerator(x=x_train, y=y_train)\n",
    "train_dl, test_dl, item_dl = dg.generate_dataloader(test_user, all_item, batch_size=512)\n",
    "\n"
   ]
  },
  {
   "cell_type": "code",
   "execution_count": null,
   "id": "oM0gkV2KlFhH",
   "metadata": {
    "id": "oM0gkV2KlFhH",
    "outputId": "d5077600-b9ca-4cf4-a041-7d1e04b799da",
    "pycharm": {
     "name": "#%%\n"
    }
   },
   "outputs": [],
   "source": [
    "model = YoutubeDNN(user_features, item_features, neg_item_feature, \n",
    "                   user_params={\"dims\": [128, 64, 16]}, temperature=0.02)\n",
    "\n",
    "trainer = MatchTrainer(model,\n",
    "                       mode=2,\n",
    "                       optimizer_params={\n",
    "                           \"lr\": 1e-2,\n",
    "                           \"weight_decay\": 1e-5\n",
    "                       },\n",
    "                       n_epoch=1,\n",
    "                       device='cpu',\n",
    "                       model_path=save_dir)\n",
    "\n",
    "trainer.fit(train_dl)\n",
    "\n",
    "print(\"inference embedding\")\n",
    "user_embedding = trainer.inference_embedding(model=model, mode=\"user\", data_loader=test_dl, model_path=save_dir)\n",
    "item_embedding = trainer.inference_embedding(model=model, mode=\"item\", data_loader=item_dl, model_path=save_dir)\n",
    "match_evaluation(user_embedding, item_embedding, test_user, all_item, topk=100, raw_id_maps=\"./saved/raw_id_maps.npy\")\n"
   ]
  },
  {
   "cell_type": "markdown",
   "id": "4fd5c403",
   "metadata": {},
   "source": [
    "\n",
    "\n",
    "\n",
    "\n",
    "### LightFM. \n",
    "\n",
    "Kula, M., 2015. Metadata embeddings for user and item cold-start recommendations. arXiv preprint arXiv:1507.08439.\n",
    "\n",
    "http://ceur-ws.org/Vol-1448/paper4.pdf?ref=https://githubhelp.com\n",
    "\n",
    "Нейросетевые модели - не всегда самая лучшая опция, в частности, есть довольно сильная модель LightFM, которая обобщает коллабративную фильтрацию для случая с добавлением признаков. \n",
    "\n",
    "\n",
    "* Это гибридный подход коллаборативной фильтрации и контентной модели, которая предсталвяет эмбеддинги пользователей и эмбеддинги объектов как линейные комбинации из обученных векторов известных признаков - т.е. суммы новых латентных признаков. При этом, это позволяет обучать модель как в режиме без признаков, так и с ними, решая проблему холодного старта (т.к. по новым пользователям и объектам можно использовать их признаки) и проблему слишком разреженных данных (high sparsity problem). Таким образом, LightFM умеет хорошо работает как с плотными, так и с разреженными данными, и, как бонус, кодировать в эмбеддингах признаков семантическую информацию по аналогии с подходами для получения эмбеддингов слов (например, w2v).\n",
    "\n",
    "\n",
    "*  Формализация.  <br> $U$ - множество пользователей, <br> $I$ - множество объектов, <br> $F^{U}$ - множество признаков пользователей, <br> $F^{I}$- множество признаков объектов. <br>\n",
    "Все пары $(u, i) \\in U × I$ - это объединение всех положительных $S^{+}$ и отрицательных $S^{-}$ интеракций. \n",
    "\n",
    "Каждый пользователь описан набором заранее известных признаков (мета данных) $f_u \\subset F^U$, то же самое для объектов  $f_i \\subset F^I$.\n",
    "\n",
    "Латентное представление пользователя представлено суммой его латентных векторов признаков: \n",
    "\n",
    "$$q_u = \\sum_{j \\in f_u} e^U_j$$\n",
    "\n",
    "Аналогично для объектов: $$p_u = \\sum_{j \\in f_i} e^I_j$$\n",
    "\n",
    "Так же, по пользователю и объекту есть смещения (bias): \n",
    "\n",
    "$$b_u = \\sum_{j \\in f_u} b^U_j$$\n",
    "\n",
    "$$b_i = \\sum_{j \\in f_i} b^I_j$$\n",
    "\n",
    "Предсказание из модели будет получать через скалярное произведение эмбедингов пользователя и объекта. \n",
    "\n",
    "$$\\hat r_{ui} = f (q_u \\cdot p_i + b_u + b_i)$$\n",
    "\n",
    "Функция f() может быть разной, автор статьи выбрал сигмоиду, поскольку использовал бинарные данные.\n",
    "\n",
    "$$f(x) = \\frac{1}{1 + exp(-x)}$$\n",
    "\n",
    "Задача оптимизации будет сформулирована как максимизация правдоподобия (данных при параметрах), с обучением модели с помощью стохастического градиентного спуска.\n",
    "\n",
    "$$L(e^U, e^I, b^U, b^I) = \\prod_{(u, i) \\in S^+} \\hat r_{ui} \\cdot  \\prod_{(u, i) \\in S^-} (1 - \\hat r_{ui})$$"
   ]
  },
  {
   "cell_type": "markdown",
   "id": "da1a4cb8",
   "metadata": {},
   "source": [
    "Источники:\n",
    "\n",
    "1. Исходная статья DSSM https://posenhuang.github.io/papers/cikm2013_DSSM_fullversion.pdf \n",
    "2. RecBole https://github.com/RUCAIBox/RecBole\n",
    "3. https://github.com/datawhalechina/torch-rechub \n",
    "4. Статья LightFM http://ceur-ws.org/Vol-1448/paper4.pdf?ref=https://githubhelp.com\n",
    "5. Отличная **библиотека от автора статьи** c примерами запусков - https://github.com/lyst/lightfm "
   ]
  },
  {
   "cell_type": "code",
   "execution_count": null,
   "id": "e0161c41",
   "metadata": {},
   "outputs": [],
   "source": []
  }
 ],
 "metadata": {
  "colab": {
   "name": "Torch-Rechub Tutorial：Matching.ipynb",
   "provenance": []
  },
  "interpreter": {
   "hash": "2f0699014af7f4c9080a159fe6ab9f0087a283cb8192b31d41a414a088fd29ff"
  },
  "kernelspec": {
   "display_name": "Python 3",
   "language": "python",
   "name": "python3"
  },
  "language_info": {
   "codemirror_mode": {
    "name": "ipython",
    "version": 3
   },
   "file_extension": ".py",
   "mimetype": "text/x-python",
   "name": "python",
   "nbconvert_exporter": "python",
   "pygments_lexer": "ipython3",
   "version": "3.8.0"
  }
 },
 "nbformat": 4,
 "nbformat_minor": 5
}
